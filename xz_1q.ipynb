{
 "cells": [
  {
   "cell_type": "code",
   "execution_count": 1,
   "metadata": {},
   "outputs": [],
   "source": [
    "import logging\n",
    "import matplotlib.pyplot as plt\n",
    "import numpy as np\n",
    "import pandas as pd\n",
    "import pickle\n",
    "import scipy\n",
    "\n",
    "\"\"\n",
    "from qcal.modelconstruction.single_qubit_models import *\n",
    "from qcal.modelconstruction.experiment_design import *\n",
    "from qcal.phase_estimation.analysis import *\n",
    "\n",
    "import plotly.io as pio\n",
    "pio.renderers.default = 'jupyterlab'\n",
    "\n",
    "pd.set_option('display.max_columns', None)\n",
    "\n",
    "logging.basicConfig(level=logging.INFO)\n",
    "\n",
    "%load_ext autoreload\n",
    "%autoreload 2"
   ]
  },
  {
   "cell_type": "code",
   "execution_count": 2,
   "metadata": {},
   "outputs": [],
   "source": [
    "depths = [2**i for i in range(10)]\n",
    "edesign = EDesign_1QXZ(depths, 'Q0')"
   ]
  },
  {
   "cell_type": "code",
   "execution_count": 3,
   "metadata": {},
   "outputs": [],
   "source": [
    "error_vec = np.array([0.01, 0.01, 0.01])\n",
    "error_model = create_XZ_model_1q(error_vec)\n",
    "target_model = create_XZ_model_1q(np.array([0.0, 0.0, 0.0]))"
   ]
  },
  {
   "cell_type": "code",
   "execution_count": 4,
   "metadata": {},
   "outputs": [],
   "source": [
    "ds = edesign.make_dataset(error_model, 1000)"
   ]
  },
  {
   "cell_type": "code",
   "execution_count": 5,
   "metadata": {},
   "outputs": [
    {
     "data": {
      "text/plain": [
       "(array([4.68839359, 4.70438966, 4.69987439, 4.70363578, 4.69983382,\n",
       "        4.70147939, 4.70234697, 4.70235542, 4.70229075, 4.70236744]),\n",
       " 9)"
      ]
     },
     "execution_count": 5,
     "metadata": {},
     "output_type": "execute_result"
    }
   ],
   "source": [
    "estimate_phase(ds, edesign, 'Gxpi2', '1', '0', '0', '1')"
   ]
  },
  {
   "cell_type": "code",
   "execution_count": 6,
   "metadata": {},
   "outputs": [
    {
     "name": "stdout",
     "output_type": "stream",
     "text": [
      "Estimates: {'Gxpi2': array([4.68839359, 4.70438966, 4.69987439, 4.70363578, 4.69983382,\n",
      "       4.70147939, 4.70234697, 4.70235542, 4.70229075, 4.70236744]), 'Gxpi2.Gzpi2.Gzpi2.Gxpi2.Gzpi2.Gzpi2': array([0.08198018, 6.25920371, 6.26206633, 6.25262516, 6.25389326,\n",
      "       6.24088265, 6.23686567, 6.2367578 , 6.23657625, 6.23698485]), 'Gxpi2.Gxpi2.Gzpi2.Gzpi2': array([3.16558805, 3.12959496, 3.15060678, 3.15509412, 3.1544653 ,\n",
      "       3.15288552, 3.15375078, 3.15388012, 3.15405186, 3.15395464])},\n",
      " Last Good Index: {'Gxpi2': 9, 'Gxpi2.Gzpi2.Gzpi2.Gxpi2.Gzpi2.Gzpi2': 9, 'Gxpi2.Gxpi2.Gzpi2.Gzpi2': 9}\n"
     ]
    }
   ],
   "source": [
    "analysis = Analysis_1QXZ(ds, edesign)\n",
    "print(analysis)"
   ]
  },
  {
   "cell_type": "code",
   "execution_count": null,
   "metadata": {},
   "outputs": [],
   "source": []
  },
  {
   "cell_type": "code",
   "execution_count": null,
   "metadata": {},
   "outputs": [],
   "source": []
  },
  {
   "cell_type": "markdown",
   "metadata": {},
   "source": [
    "# run on device"
   ]
  },
  {
   "cell_type": "code",
   "execution_count": 7,
   "metadata": {},
   "outputs": [],
   "source": [
    "import qcal.settings as settings\n",
    "\n",
    "from qcal.config import Config\n",
    "from qcal.managers.classification_manager import ClassificationManager\n",
    "from qcal.math.utils import round_to_order_error\n",
    "from qcal.qpu.qpu import QPU\n",
    "\n",
    "import logging\n",
    "\n",
    "from collections.abc import Iterable\n",
    "from IPython.display import clear_output\n",
    "from numpy.typing import NDArray\n",
    "from typing import Any, Callable, Dict, List, Tuple\n",
    "\n",
    "import qcal as qc\n",
    "import qcal.backend.qubic.transpiler as qbt\n",
    "from qcal.units import *\n",
    "from qcal.utils import load_from_pickle\n",
    "from qcal.backend.qubic.qpu import QubicQPU"
   ]
  },
  {
   "cell_type": "code",
   "execution_count": 8,
   "metadata": {},
   "outputs": [],
   "source": [
    "def RPE_Experiment_1QXZ(\n",
    "        qpu:             QPU,\n",
    "        config:          Config,\n",
    "        qubit_label:     int,\n",
    "        edesign:         ExperimentDesign,\n",
    "        compiler:        Any | None = None,\n",
    "        transpiler:      Any | None = None,\n",
    "        classifier:      ClassificationManager = None,\n",
    "        n_shots:         int = 1024,\n",
    "        n_batches:       int = 1,\n",
    "        n_circs_per_seq: int = 1,\n",
    "        raster_circuits: bool = False,\n",
    "        **kwargs\n",
    "    ) -> Callable:\n",
    "    \"\"\"Robust Phase Estimation.\n",
    "\n",
    "    This protocol requires a valid pyGSTi and pyRPE installation.\n",
    "\n",
    "    Args:\n",
    "        qpu (QPU): custom QPU object.\n",
    "        config (Config): qcal Config object.\n",
    "        qubit_labels (Iterable[int]): a list specifying sets of system labels \n",
    "            on which to perform RPE for a given gate.\n",
    "        experiment (str): type of RPE experiment.\n",
    "        circuit_depths (List[int]): a list of positive integers specifying the \n",
    "            circuit depths.\n",
    "        compiler (Any | Compiler | None, optional): custom compiler to compile\n",
    "            the True-Q circuits. Defaults to None.\n",
    "        transpiler (Any | None, optional): custom transpiler to transpile\n",
    "            the True-Q circuits to experimental circuits. Defaults to None.\n",
    "        classifier (ClassificationManager, optional): manager used for \n",
    "            classifying raw data. Defaults to None.\n",
    "        n_shots (int, optional): number of measurements per circuit. \n",
    "                Defaults to 1024.\n",
    "        n_batches (int, optional): number of batches of measurements. Defaults\n",
    "            to 1.\n",
    "        n_circs_per_seq (int, optional): maximum number of circuits that can be\n",
    "            measured per sequence. Defaults to 1.\n",
    "        raster_circuits (bool, optional): whether to raster through all\n",
    "            circuits in a batch during measurement. Defaults to False. By\n",
    "            default, all circuits in a batch will be measured n_shots times\n",
    "            one by one. If True, all circuits in a batch will be measured\n",
    "            back-to-back one shot at a time. This can help average out the \n",
    "            effects of drift on the timescale of a measurement.\n",
    "\n",
    "    Returns:\n",
    "        Callable: RPE class instance.\n",
    "    \"\"\"\n",
    "\n",
    "    class RPE_Experiment_1QXZ(qpu):\n",
    "        \"\"\"pyRPE protocol.\"\"\"\n",
    "\n",
    "        def __init__(self,\n",
    "                config:          Config,\n",
    "                qubit_label:     int,\n",
    "                edesign:         ExperimentDesign,\n",
    "                compiler:        Any | None = None,\n",
    "                transpiler:      Any | None = None,\n",
    "                classifier:      ClassificationManager = None,\n",
    "                n_shots:         int = 1024,\n",
    "                n_batches:       int = 1,\n",
    "                n_circs_per_seq: int = 1,\n",
    "                raster_circuits: bool = False,\n",
    "                **kwargs\n",
    "            ) -> None:\n",
    "            from qcal.interface.pygsti.transpiler import Transpiler\n",
    "\n",
    "            try:\n",
    "                import pygsti\n",
    "                from pygsti.modelpacks import smq2Q_XXYYII\n",
    "                from pygsti.modelpacks import smq2Q_XYICPHASE\n",
    "                logger.info(f\" pyGSTi version: {pygsti.__version__}\\n\")\n",
    "            except ImportError:\n",
    "                logger.warning(' Unable to import pyGSTi!')\n",
    "\n",
    "            self._config = config\n",
    "            self._qubit_labels = [qubit_label]\n",
    "            self._edesign = edesign\n",
    "            self._qubits = [qubit_label]\n",
    "            self._n_shots = n_shots\n",
    "\n",
    "\n",
    "            self._pygsti_circuits = edesign.circuit_list\n",
    "\n",
    "            \n",
    "            \n",
    "            if transpiler is None:\n",
    "                transpiler = Transpiler()\n",
    "\n",
    "            qpu.__init__(self,\n",
    "                config=config, \n",
    "                compiler=compiler, \n",
    "                transpiler=transpiler,\n",
    "                classifier=classifier,\n",
    "                n_shots=n_shots, \n",
    "                n_batches=n_batches, \n",
    "                n_circs_per_seq=n_circs_per_seq, \n",
    "                raster_circuits=raster_circuits,\n",
    "                **kwargs\n",
    "            )\n",
    "            self._circuits = self.generate_circuits()\n",
    "\n",
    "        def generate_circuits(self):\n",
    "            \"\"\"Generate all RPE circuits.\"\"\"\n",
    "            from qcal.interface.pygsti.circuits import load_circuits\n",
    "\n",
    "            logger.info(' Generating circuits from pyGSTi...')\n",
    "            self._circuits = load_circuits(self._pygsti_circuits)\n",
    "\n",
    "        def generate_pygsti_dataset(self):\n",
    "            \"\"\"Generate a pyGSTi dataset for each qubit label.\"\"\"\n",
    "            logger.info(' Generating pyGSTi reports...')\n",
    "            \n",
    "            circuits = self._transpiled_circuits\n",
    "            fileloc = self.data_manager.save_path\n",
    "            for ql in self._qubit_labels:\n",
    "                if isinstance(ql, Iterable):\n",
    "                    q_index = tuple([self._qubits.index(q) for q in ql])\n",
    "                    qs = ''.join(str(q) for q in ql)\n",
    "                else:\n",
    "                    q_index = tuple([self._qubits.index(ql)])\n",
    "                    qs = str(ql)\n",
    "\n",
    "                results_dfs = []\n",
    "                for i, circuit in enumerate(circuits):\n",
    "                    results_dfs.append(\n",
    "                        pd.DataFrame(\n",
    "                            [circuit.results.marginalize(q_index).dict], \n",
    "                            index=[circuits['pygsti_circuit'][i]]\n",
    "                        )\n",
    "                    )\n",
    "                results_df = pd.concat(results_dfs)\n",
    "                results_df = results_df.fillna(0).astype(int).rename(\n",
    "                    columns=lambda col: col + ' count'\n",
    "                )\n",
    "                self._df = results_df\n",
    "\n",
    "                with open(f'{fileloc}dataset_{qs}.txt', 'w') as f:\n",
    "                    f.write(\n",
    "                        '## Columns = ' + ', '.join(results_df.columns) + \"\\n\"\n",
    "                    )\n",
    "                    f.close()\n",
    "                results_df.to_csv(\n",
    "                    f'{fileloc}dataset_{qs}.txt', \n",
    "                    sep=' ', \n",
    "                    mode='a', \n",
    "                    header=False\n",
    "                )\n",
    "\n",
    "        def run(self):\n",
    "            \"\"\"Run all experimental methods and analyze results.\"\"\"\n",
    "            self.generate_circuits()\n",
    "            qpu.run(self, self._circuits, save=False)\n",
    "            self.save()\n",
    "            self.generate_pygsti_dataset()\n",
    "            \n",
    "    return RPE_Experiment_1QXZ(\n",
    "        config,\n",
    "        qubit_label,\n",
    "        edesign,       \n",
    "        compiler,      \n",
    "        transpiler,    \n",
    "        classifier,    \n",
    "        n_shots,       \n",
    "        n_batches,     \n",
    "        n_circs_per_seq,\n",
    "        raster_circuits,\n",
    "        **kwargs\n",
    "    )"
   ]
  },
  {
   "cell_type": "code",
   "execution_count": 9,
   "metadata": {},
   "outputs": [
    {
     "data": {
      "application/vnd.plotly.v1+json": {
       "config": {
        "plotlyServerURL": "https://plot.ly",
        "toImageButtonOptions": {
         "filename": "qpu_layout",
         "format": "png",
         "scale": 10
        }
       },
       "data": [
        {
         "hoverinfo": "none",
         "line": {
          "color": "#888",
          "width": 0.5
         },
         "mode": "lines",
         "type": "scatter",
         "x": [
          -0.9987902735903381,
          -0.8972408155223486,
          null,
          -0.9987902735903381,
          -0.5084806998624344,
          null,
          -0.8972408155223486,
          -0.2676740121378899,
          null,
          -0.2676740121378899,
          0.5097275387698247,
          null,
          0.5097275387698247,
          0.9999999999999999,
          null,
          0.9999999999999999,
          0.8959871500471296,
          null,
          0.8959871500471296,
          0.2664711122960564,
          null,
          0.2664711122960564,
          -0.5084806998624344,
          null
         ],
         "y": [
          -0.26511807183936853,
          0.504873305133288,
          null,
          -0.26511807183936853,
          -0.8690386338033904,
          null,
          0.504873305133288,
          0.9670454521617025,
          null,
          0.9670454521617025,
          0.8666812609477453,
          null,
          0.8666812609477453,
          0.26269510342544367,
          null,
          0.26269510342544367,
          -0.5025613917815588,
          null,
          -0.5025613917815588,
          -0.9645770242438618,
          null,
          -0.9645770242438618,
          -0.8690386338033904,
          null
         ]
        },
        {
         "hoverinfo": "text",
         "marker": {
          "color": [
           2,
           2,
           2,
           2,
           2,
           2,
           2,
           2
          ],
          "colorbar": {
           "thickness": 15,
           "title": {
            "side": "right",
            "text": "Qubit Connectivity"
           },
           "xanchor": "left"
          },
          "colorscale": [
           [
            0,
            "rgb(255,255,217)"
           ],
           [
            0.125,
            "rgb(237,248,177)"
           ],
           [
            0.25,
            "rgb(199,233,180)"
           ],
           [
            0.375,
            "rgb(127,205,187)"
           ],
           [
            0.5,
            "rgb(65,182,196)"
           ],
           [
            0.625,
            "rgb(29,145,192)"
           ],
           [
            0.75,
            "rgb(34,94,168)"
           ],
           [
            0.875,
            "rgb(37,52,148)"
           ],
           [
            1,
            "rgb(8,29,88)"
           ]
          ],
          "line": {
           "width": 2
          },
          "reversescale": true,
          "showscale": true,
          "size": 25
         },
         "mode": "markers",
         "text": [
          "GE:<br>  Freq: 5464629937.04333<br>  T1: 7.9e-05<br>  T2*: 5.6e-05<br>  T2e: 9.2e-05<br>EF:<br>  Freq: 5204791732.40548<br>  T1: 4.77e-05<br>  T2*: 2e-05<br>  T2e: None<br>Connectivity: 2",
          "GE:<br>  Freq: 5334367213.03424<br>  T1: 0.000119<br>  T2*: 4.1e-05<br>  T2e: 5.6e-05<br>EF:<br>  Freq: 5073467123.00038<br>  T1: 2.6e-05<br>  T2*: 4e-05<br>  T2e: None<br>Connectivity: 2",
          "GE:<br>  Freq: 5199246182.99105<br>  T1: 0.00013<br>  T2*: 2.1e-05<br>  T2e: 0.00012<br>EF:<br>  Freq: 4936508146.77336<br>  T1: 6.6e-05<br>  T2*: 3e-06<br>  T2e: None<br>Connectivity: 2",
          "GE:<br>  Freq: 5249819999.75467<br>  T1: 7.7e-05<br>  T2*: 6.8e-05<br>  T2e: 9.1e-05<br>EF:<br>  Freq: 4986874003.43778<br>  T1: 7.1e-05<br>  T2*: 5e-05<br>  T2e: None<br>Connectivity: 2",
          "GE:<br>  Freq: 5444054327.31679<br>  T1: 9.13e-05<br>  T2*: 0.0001<br>  T2e: 9.6e-05<br>EF:<br>  Freq: 5184742510.26846<br>  T1: 2.68e-05<br>  T2*: 5e-06<br>  T2e: None<br>Connectivity: 2",
          "GE:<br>  Freq: 5572027305.67948<br>  T1: 3.7e-05<br>  T2*: 6.5e-05<br>  T2e: 0.0001<br>EF:<br>  Freq: 5314359080.01996<br>  T1: 4.11e-05<br>  T2*: 5e-06<br>  T2e: None<br>Connectivity: 2",
          "GE:<br>  Freq: 5875418115.62523<br>  T1: 5.43e-05<br>  T2*: 2.1e-05<br>  T2e: 6.8e-05<br>EF:<br>  Freq: 5623128136.85352<br>  T1: 1.3e-05<br>  T2*: 9.4e-06<br>  T2e: None<br>Connectivity: 2",
          "GE:<br>  Freq: 5375898278.98483<br>  T1: 2.36e-05<br>  T2*: 1.1e-05<br>  T2e: 4.3e-05<br>EF:<br>  Freq: 5113973968.12754<br>  T1: 1.61e-05<br>  T2*: 4.3e-06<br>  T2e: None<br>Connectivity: 2"
         ],
         "type": "scatter",
         "x": [
          -0.9987902735903381,
          -0.8972408155223486,
          -0.2676740121378899,
          0.5097275387698247,
          0.9999999999999999,
          0.8959871500471296,
          0.2664711122960564,
          -0.5084806998624344
         ],
         "y": [
          -0.26511807183936853,
          0.504873305133288,
          0.9670454521617025,
          0.8666812609477453,
          0.26269510342544367,
          -0.5025613917815588,
          -0.9645770242438618,
          -0.8690386338033904
         ]
        },
        {
         "hoverinfo": "text",
         "marker": {
          "color": "#5D69B1",
          "size": 0.01
         },
         "mode": "text",
         "text": [
          "Q0",
          "Q1",
          "Q2",
          "Q3",
          "Q4",
          "Q5",
          "Q6",
          "Q7"
         ],
         "type": "scatter",
         "x": [
          -0.9987902735903381,
          -0.8972408155223486,
          -0.2676740121378899,
          0.5097275387698247,
          0.9999999999999999,
          0.8959871500471296,
          0.2664711122960564,
          -0.5084806998624344
         ],
         "y": [
          -0.26511807183936853,
          0.504873305133288,
          0.9670454521617025,
          0.8666812609477453,
          0.26269510342544367,
          -0.5025613917815588,
          -0.9645770242438618,
          -0.8690386338033904
         ]
        },
        {
         "hoverinfo": "text",
         "marker": {
          "opacity": 0
         },
         "mode": "markers",
         "text": [
          "CZ:<br>  Freq: 5280000000.0<br>",
          "CZ:<br>  Freq: 5125600000.0<br>",
          "CZ:<br>  Freq: 5163000000.0<br>",
          "CZ:<br>  Freq: 5300000000.0<br>",
          "CZ:<br>  Freq: 5344000000.0<br>",
          "CZ:<br>  Freq: 5505000000.0<br>",
          "CZ:<br>  Freq: 5495000000.0<br>",
          "CZ:<br>  Freq: 5418000000.0<br>"
         ],
         "type": "scatter",
         "x": [
          -0.9480155445563434,
          -0.7536354867263863,
          -0.5824574138301193,
          0.1210267633159674,
          0.7548637693849123,
          0.9479935750235647,
          0.581229131171593,
          -0.12100479378318899
         ],
         "y": [
          0.11987761664695973,
          -0.5670783528213794,
          0.7359593786474952,
          0.916863356554724,
          0.5646881821865946,
          -0.11993314417805756,
          -0.7335692080127103,
          -0.9168078290236261
         ]
        }
       ],
       "layout": {
        "annotations": [
         {
          "font": {
           "size": 25
          },
          "showarrow": false,
          "text": "QPU",
          "x": 0.005,
          "xref": "paper",
          "y": -0.002,
          "yref": "paper"
         }
        ],
        "hovermode": "closest",
        "margin": {
         "b": 20,
         "l": 5,
         "r": 5,
         "t": 40
        },
        "showlegend": false,
        "template": {
         "data": {
          "scatter": [
           {
            "type": "scatter"
           }
          ]
         }
        },
        "title": {
         "font": {
          "size": 16
         }
        },
        "xaxis": {
         "showgrid": false,
         "showticklabels": false,
         "zeroline": false
        },
        "yaxis": {
         "showgrid": false,
         "showticklabels": false,
         "zeroline": false
        }
       }
      }
     },
     "metadata": {},
     "output_type": "display_data"
    }
   ],
   "source": [
    "import qcal.settings as settings\n",
    "\n",
    "logger = logging.getLogger(__name__)\n",
    "\n",
    "basedir = '/home/jpmarceaux/experiment/'\n",
    "settings.Settings.config_path = basedir + 'config/'\n",
    "settings.Settings.data_path = basedir + 'data/'\n",
    "settings.Settings.save_data = True\n",
    "\n",
    "\n",
    "\n",
    "#cfg = qc.Config()\n",
    "cfg = qc.Config(basedir + 'config/configs/X6Y3/config.yaml')\n",
    "classifier = load_from_pickle(basedir + 'config/configs/X6Y3/ClassificationManager.pkl')\n",
    "# cfg = qc.Config(basedir + 'config/Campbell06/X6Y3/config_abhi.yaml')\n",
    "cfg.draw_qpu()"
   ]
  },
  {
   "cell_type": "code",
   "execution_count": 10,
   "metadata": {},
   "outputs": [],
   "source": [
    "qid = 'Q5'\n",
    "depths = [2**i for i in range(10)]\n",
    "n_shots = 512\n",
    "edesign = EDesign_1QXZ(depths, qid)"
   ]
  },
  {
   "cell_type": "code",
   "execution_count": 11,
   "metadata": {},
   "outputs": [
    {
     "name": "stderr",
     "output_type": "stream",
     "text": [
      "INFO:__main__: pyGSTi version: 0.9.12.2\n",
      "\n"
     ]
    },
    {
     "name": "stderr",
     "output_type": "stream",
     "text": [
      "INFO:__main__: Generating circuits from pyGSTi...\n"
     ]
    }
   ],
   "source": [
    "rpe_exp = RPE_Experiment_1QXZ(QubicQPU, cfg,int(qid[1]), edesign, \n",
    "    classifier=classifier,\n",
    "    n_shots=512,\n",
    "    n_circs_per_seq=100,\n",
    "    reload_pulse=False,\n",
    "    reload_freq=False,\n",
    "    reload_env=False,\n",
    "    zero_between_reload=False\n",
    ")"
   ]
  },
  {
   "cell_type": "code",
   "execution_count": 12,
   "metadata": {},
   "outputs": [
    {
     "name": "stderr",
     "output_type": "stream",
     "text": [
      "INFO:QPU: Data save location: /home/jpmarceaux/experiment/data/2024-10-22/20241022_171339/\n",
      "\n",
      "INFO:__main__: Generating pyGSTi reports...\n"
     ]
    },
    {
     "name": "stdout",
     "output_type": "stream",
     "text": [
      "Runtime:   Compile  Transpile  Sequencing  Write  Measure  Process  Total\n",
      "Time (s)      0.0        0.2         1.8    0.0     32.4      0.1   34.5\n",
      "\n"
     ]
    }
   ],
   "source": [
    "rpe_exp.run()"
   ]
  },
  {
   "cell_type": "code",
   "execution_count": 13,
   "metadata": {},
   "outputs": [
    {
     "name": "stdout",
     "output_type": "stream",
     "text": [
      "Reading /home/jpmarceaux/experiment/data/2024-10-22/20241022_171339/dataset_5.txt: 100%\n"
     ]
    }
   ],
   "source": [
    "ds_exp = pygsti.io.read_dataset(rpe_exp.data_manager.save_path + 'dataset_5.txt')"
   ]
  },
  {
   "cell_type": "code",
   "execution_count": 14,
   "metadata": {},
   "outputs": [
    {
     "data": {
      "image/png": "[encoded data removed]",
      "text/plain": [
       "<Figure size 1000x500 with 20 Axes>"
      ]
     },
     "metadata": {},
     "output_type": "display_data"
    },
    {
     "data": {
      "image/png": "[encoded data removed]",
      "text/plain": [
       "<Figure size 1000x500 with 20 Axes>"
      ]
     },
     "metadata": {},
     "output_type": "display_data"
    },
    {
     "data": {
      "image/png": "[encoded data removed]",
      "text/plain": [
       "<Figure size 1000x500 with 20 Axes>"
      ]
     },
     "metadata": {},
     "output_type": "display_data"
    }
   ],
   "source": [
    "target_model = create_XZ_model_1q(np.array([0.0, 0.0, 0.0]), qid=qid)\n",
    "edesign.plot_dataset(ds_exp, target_model)"
   ]
  },
  {
   "cell_type": "code",
   "execution_count": 168,
   "metadata": {},
   "outputs": [
    {
     "name": "stdout",
     "output_type": "stream",
     "text": [
      "Estimates: {'Gxpi2': array([5.1374882 , 4.49777892, 4.73106628, 4.71238898, 4.69961412,\n",
      "       4.69617133, 4.69427959, 4.68443314, 4.68902408, 4.68887564]), 'Gxpi2.Gzpi2.Gzpi2.Gxpi2.Gzpi2.Gzpi2': array([0.83338042, 0.94626204, 1.04636806, 0.9370869 , 0.9928491 ,\n",
      "       0.97256184, 0.96601526, 0.96315487, 0.95971379, 0.95739015]), 'Gxpi2.Gxpi2.Gzpi2.Gzpi2': array([2.28764003, 2.54333004, 2.46555291, 2.45298692, 2.45453298,\n",
      "       2.46099094, 2.46052522, 2.46825826, 2.45838516, 2.4586817 ])},\n",
      " Last Good Index: {'Gxpi2': 9, 'Gxpi2.Gzpi2.Gzpi2.Gxpi2.Gzpi2.Gzpi2': 9, 'Gxpi2.Gxpi2.Gzpi2.Gzpi2': 7}\n"
     ]
    }
   ],
   "source": [
    "analysis = Analysis_1QXZ(ds_exp, edesign)\n",
    "print(analysis)"
   ]
  },
  {
   "cell_type": "code",
   "execution_count": null,
   "metadata": {},
   "outputs": [],
   "source": []
  }
 ],
 "metadata": {
  "kernelspec": {
   "display_name": "qcal",
   "language": "python",
   "name": "python3"
  },
  "language_info": {
   "codemirror_mode": {
    "name": "ipython",
    "version": 3
   },
   "file_extension": ".py",
   "mimetype": "text/x-python",
   "name": "python",
   "nbconvert_exporter": "python",
   "pygments_lexer": "ipython3",
   "version": "3.11.0"
  }
 },
 "nbformat": 4,
 "nbformat_minor": 2
}
