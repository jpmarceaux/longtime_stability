{
 "cells": [
  {
   "cell_type": "code",
   "execution_count": 1,
   "metadata": {},
   "outputs": [],
   "source": [
    "import logging\n",
    "import matplotlib.pyplot as plt\n",
    "import numpy as np\n",
    "import pandas as pd\n",
    "import pickle\n",
    "import scipy\n",
    "import yaml\n",
    "import time\n",
    "from tqdm import tqdm\n",
    "\n",
    "from erpe.analysis import *\n",
    "from erpe.experiment_design import *\n",
    "from erpe.models import *\n",
    "from erpe.qcal_util import *\n",
    "from erpe.lqr import *\n",
    "\n",
    "import plotly.io as pio\n",
    "pio.renderers.default = 'jupyterlab'\n",
    "\n",
    "pd.set_option('display.max_columns', None)\n",
    "\n",
    "logging.basicConfig(level=logging.INFO)\n",
    "\n",
    "%load_ext autoreload\n",
    "%autoreload 2"
   ]
  },
  {
   "cell_type": "code",
   "execution_count": 2,
   "metadata": {},
   "outputs": [],
   "source": [
    "import qcal as qc\n",
    "\n",
    "from qcal.units import *\n",
    "from qcal.utils import load_from_pickle\n",
    "from qcal.backend.qubic.qpu import QubicQPU\n",
    "from qcal.backend.qubic.utils import qubic_sequence\n",
    "\n",
    "from qcal.benchmarking.readout import ReadoutFidelity\n",
    "from qcal.calibration.readout import ReadoutCalibration\n",
    "\n",
    "from qcal.interface.pygsti.circuits import load_circuits\n",
    "from qcal.interface.pygsti.transpiler import Transpiler\n",
    "from qcal.interface.pygsti.datasets import generate_pygsti_dataset"
   ]
  },
  {
   "cell_type": "code",
   "execution_count": 3,
   "metadata": {},
   "outputs": [
    {
     "data": {
      "application/vnd.plotly.v1+json": {
       "config": {
        "plotlyServerURL": "https://plot.ly",
        "toImageButtonOptions": {
         "filename": "qpu_layout",
         "format": "png",
         "scale": 10
        }
       },
       "data": [
        {
         "hoverinfo": "none",
         "line": {
          "color": "#888",
          "width": 0.5
         },
         "mode": "lines",
         "type": "scatter",
         "x": [
          -0.6770289955522248,
          -0.9958078908259221,
          null,
          -0.6770289955522248,
          0.0419660246106369,
          null,
          -0.9958078908259221,
          -0.7373622850704747,
          null,
          -0.7373622850704747,
          -0.03923659752916286,
          null,
          -0.03923659752916286,
          0.6758393065157826,
          null,
          0.6758393065157826,
          0.9985370291922844,
          null,
          0.9985370291922844,
          0.7330934086590799,
          null,
          0.7330934086590799,
          0.0419660246106369,
          null
         ],
         "y": [
          0.7295893705055759,
          0.03504339866975717,
          null,
          0.7295893705055759,
          1,
          null,
          0.03504339866975717,
          -0.6836612088539267,
          null,
          -0.6836612088539267,
          -0.9998141123037486,
          null,
          -0.9998141123037486,
          -0.7308490567529066,
          null,
          -0.7308490567529066,
          -0.03198137494720863,
          null,
          -0.03198137494720863,
          0.6816729836824571,
          null,
          0.6816729836824571,
          1,
          null
         ]
        },
        {
         "hoverinfo": "text",
         "marker": {
          "color": [
           2,
           2,
           2,
           2,
           2,
           2,
           2,
           2
          ],
          "colorbar": {
           "thickness": 15,
           "title": {
            "side": "right",
            "text": "Qubit Connectivity"
           },
           "xanchor": "left"
          },
          "colorscale": [
           [
            0,
            "rgb(255,255,217)"
           ],
           [
            0.125,
            "rgb(237,248,177)"
           ],
           [
            0.25,
            "rgb(199,233,180)"
           ],
           [
            0.375,
            "rgb(127,205,187)"
           ],
           [
            0.5,
            "rgb(65,182,196)"
           ],
           [
            0.625,
            "rgb(29,145,192)"
           ],
           [
            0.75,
            "rgb(34,94,168)"
           ],
           [
            0.875,
            "rgb(37,52,148)"
           ],
           [
            1,
            "rgb(8,29,88)"
           ]
          ],
          "line": {
           "width": 2
          },
          "reversescale": true,
          "showscale": true,
          "size": 25
         },
         "mode": "markers",
         "text": [
          "GE:<br>  Freq: 5469692837.04333<br>  T1: 0.0001<br>  T2*: 2.6e-05<br>  T2e: 0.00012<br>EF:<br>  Freq: 5209527432.40548<br>  T1: 3.3e-05<br>  T2*: 2e-05<br>  T2e: None<br>Connectivity: 2",
          "GE:<br>  Freq: 5342762343.03424<br>  T1: 9.2e-05<br>  T2*: 9.1e-05<br>  T2e: 0.00011<br>EF:<br>  Freq: 5081946523.00038<br>  T1: 7.5e-05<br>  T2*: 4e-05<br>  T2e: None<br>Connectivity: 2",
          "GE:<br>  Freq: 5197320742.99105<br>  T1: 5.1e-05<br>  T2*: 5.8e-05<br>  T2e: 0.00016<br>EF:<br>  Freq: 4934655846.77336<br>  T1: 4.2e-05<br>  T2*: 3e-06<br>  T2e: None<br>Connectivity: 2",
          "GE:<br>  Freq: 5253050999.75467<br>  T1: 8.1e-05<br>  T2*: 9.6e-05<br>  T2e: 0.00012<br>EF:<br>  Freq: 4984121103.43778<br>  T1: 3.5e-05<br>  T2*: 5e-05<br>  T2e: None<br>Connectivity: 2",
          "GE:<br>  Freq: 5452756891.31679<br>  T1: 9.1e-05<br>  T2*: 4.4e-05<br>  T2e: 0.00016<br>EF:<br>  Freq: 5193509560.26846<br>  T1: 6.8e-05<br>  T2*: 5e-06<br>  T2e: None<br>Connectivity: 2",
          "GE:<br>  Freq: 5575357055.67948<br>  T1: 7.38e-05<br>  T2*: 0.00011<br>  T2e: 0.0001<br>EF:<br>  Freq: 5317728990.01996<br>  T1: 4.32e-05<br>  T2*: 5e-06<br>  T2e: None<br>Connectivity: 2",
          "GE:<br>  Freq: 5873675134.62523<br>  T1: 5e-05<br>  T2*: 3e-05<br>  T2e: 9.8e-05<br>EF:<br>  Freq: 5621874136.85352<br>  T1: 2.61e-05<br>  T2*: 9.4e-06<br>  T2e: None<br>Connectivity: 2",
          "GE:<br>  Freq: 5376540318.98483<br>  T1: 2.54e-05<br>  T2*: 3.5e-05<br>  T2e: 4.4e-05<br>EF:<br>  Freq: 5114430928.12754<br>  T1: 1.4e-05<br>  T2*: 4.3e-06<br>  T2e: None<br>Connectivity: 2"
         ],
         "type": "scatter",
         "x": [
          -0.6770289955522248,
          -0.9958078908259221,
          -0.7373622850704747,
          -0.03923659752916286,
          0.6758393065157826,
          0.9985370291922844,
          0.7330934086590799,
          0.0419660246106369
         ],
         "y": [
          0.7295893705055759,
          0.03504339866975717,
          -0.6836612088539267,
          -0.9998141123037486,
          -0.7308490567529066,
          -0.03198137494720863,
          0.6816729836824571,
          1
         ]
        },
        {
         "hoverinfo": "text",
         "marker": {
          "color": "#5D69B1",
          "size": 0.01
         },
         "mode": "text",
         "text": [
          "Q0",
          "Q1",
          "Q2",
          "Q3",
          "Q4",
          "Q5",
          "Q6",
          "Q7"
         ],
         "type": "scatter",
         "x": [
          -0.6770289955522248,
          -0.9958078908259221,
          -0.7373622850704747,
          -0.03923659752916286,
          0.6758393065157826,
          0.9985370291922844,
          0.7330934086590799,
          0.0419660246106369
         ],
         "y": [
          0.7295893705055759,
          0.03504339866975717,
          -0.6836612088539267,
          -0.9998141123037486,
          -0.7308490567529066,
          -0.03198137494720863,
          0.6816729836824571,
          1
         ]
        },
        {
         "hoverinfo": "text",
         "marker": {
          "opacity": 0
         },
         "mode": "markers",
         "text": [
          "CZ:<br>  Freq: 5370000000.0<br>",
          "CZ:<br>  Freq: 5144000000.0<br>",
          "CZ:<br>  Freq: 5132500000.0<br>",
          "CZ:<br>  Freq: 5287000000.0<br>",
          "CZ:<br>  Freq: 5410000000.0<br>",
          "CZ:<br>  Freq: 5533000000.0<br>",
          "CZ:<br>  Freq: 5485000000.0<br>",
          "CZ:<br>  Freq: 5422500000.0<br>"
         ],
         "type": "scatter",
         "x": [
          -0.8364184431890735,
          -0.31753148547079396,
          -0.8665850879481984,
          -0.3882994412998188,
          0.3183013544933099,
          0.8371881678540335,
          0.8658152189256821,
          0.3875297166348584
         ],
         "y": [
          0.38231638458766654,
          0.8647946852527879,
          -0.32430890509208476,
          -0.8417376605788376,
          -0.8653315845283276,
          -0.3814152158500576,
          0.3248458043676242,
          0.8408364918412286
         ]
        }
       ],
       "layout": {
        "annotations": [
         {
          "font": {
           "size": 25
          },
          "showarrow": false,
          "text": "QPU",
          "x": 0.005,
          "xref": "paper",
          "y": -0.002,
          "yref": "paper"
         }
        ],
        "hovermode": "closest",
        "margin": {
         "b": 20,
         "l": 5,
         "r": 5,
         "t": 40
        },
        "showlegend": false,
        "template": {
         "data": {
          "scatter": [
           {
            "type": "scatter"
           }
          ]
         }
        },
        "title": {
         "font": {
          "size": 16
         }
        },
        "xaxis": {
         "showgrid": false,
         "showticklabels": false,
         "zeroline": false
        },
        "yaxis": {
         "showgrid": false,
         "showticklabels": false,
         "zeroline": false
        }
       }
      }
     },
     "metadata": {},
     "output_type": "display_data"
    }
   ],
   "source": [
    "import qcal.settings as settings\n",
    "\n",
    "logger = logging.getLogger(__name__)\n",
    "\n",
    "basedir = '/home/jpmarceaux/experiment/'\n",
    "settings.Settings.config_path = basedir + 'config/'\n",
    "settings.Settings.data_path = basedir + 'data/'\n",
    "settings.Settings.save_data = True\n",
    "\n",
    "#cfg = qc.Config()\n",
    "akel_config = qc.Config(basedir + 'config/configs/X6Y3/config.yaml')\n",
    "classifier = load_from_pickle(basedir + 'config/configs/X6Y3/ClassificationManager.pkl')\n",
    "# cfg = qc.Config(basedir + 'config/Campbell06/X6Y3/config_abhi.yaml')\n",
    "akel_config.draw_qpu()"
   ]
  },
  {
   "cell_type": "code",
   "execution_count": 5,
   "metadata": {},
   "outputs": [],
   "source": [
    "from qcal.characterization.coherence import T1, T2\n"
   ]
  },
  {
   "cell_type": "code",
   "execution_count": 25,
   "metadata": {},
   "outputs": [],
   "source": [
    "def run_t1(qid, config):\n",
    "    akel_config.load()\n",
    "\n",
    "    qubits = (qid[1],)\n",
    "    print(qubits)\n",
    "    n_elements = 50\n",
    "    char1 = T1(\n",
    "        QubicQPU,\n",
    "        config,\n",
    "        qubits,\n",
    "        t_max=500*us,\n",
    "        classifier=classifier,\n",
    "        n_elements=n_elements,\n",
    "        n_circs_per_seq=n_elements,\n",
    "        reload_freq=False,\n",
    "        reload_env=False,\n",
    "        zero_between_reload=False\n",
    "    )\n",
    "    char1.run()\n",
    "    res = char1._char_values[qid[1]]\n",
    "    return res"
   ]
  },
  {
   "cell_type": "code",
   "execution_count": 29,
   "metadata": {},
   "outputs": [
    {
     "name": "stderr",
     "output_type": "stream",
     "text": [
      "INFO:qcal.characterization.coherence: Generating circuits...\n",
      "INFO:QPU: No batching...\n",
      "INFO:QPU: Generating sequences...\n"
     ]
    },
    {
     "name": "stdout",
     "output_type": "stream",
     "text": [
      "('0',)\n"
     ]
    },
    {
     "ename": "UnboundLocalError",
     "evalue": "cannot access local variable 'qubits' where it is not associated with a value",
     "output_type": "error",
     "traceback": [
      "\u001b[0;31m---------------------------------------------------------------------------\u001b[0m",
      "\u001b[0;31mUnboundLocalError\u001b[0m                         Traceback (most recent call last)",
      "Cell \u001b[0;32mIn[29], line 1\u001b[0m\n\u001b[0;32m----> 1\u001b[0m \u001b[43mrun_t1\u001b[49m\u001b[43m(\u001b[49m\u001b[38;5;124;43m'\u001b[39;49m\u001b[38;5;124;43mQ0\u001b[39;49m\u001b[38;5;124;43m'\u001b[39;49m\u001b[43m,\u001b[49m\u001b[43m \u001b[49m\u001b[43makel_config\u001b[49m\u001b[43m)\u001b[49m\n",
      "Cell \u001b[0;32mIn[25], line 19\u001b[0m, in \u001b[0;36mrun_t1\u001b[0;34m(qid, config)\u001b[0m\n\u001b[1;32m      6\u001b[0m n_elements \u001b[38;5;241m=\u001b[39m \u001b[38;5;241m50\u001b[39m\n\u001b[1;32m      7\u001b[0m char1 \u001b[38;5;241m=\u001b[39m T1(\n\u001b[1;32m      8\u001b[0m     QubicQPU,\n\u001b[1;32m      9\u001b[0m     config,\n\u001b[0;32m   (...)\u001b[0m\n\u001b[1;32m     17\u001b[0m     zero_between_reload\u001b[38;5;241m=\u001b[39m\u001b[38;5;28;01mFalse\u001b[39;00m\n\u001b[1;32m     18\u001b[0m )\n\u001b[0;32m---> 19\u001b[0m \u001b[43mchar1\u001b[49m\u001b[38;5;241;43m.\u001b[39;49m\u001b[43mrun\u001b[49m\u001b[43m(\u001b[49m\u001b[43m)\u001b[49m\n\u001b[1;32m     20\u001b[0m res \u001b[38;5;241m=\u001b[39m char1\u001b[38;5;241m.\u001b[39m_char_values[qid[\u001b[38;5;241m1\u001b[39m]]\n\u001b[1;32m     21\u001b[0m \u001b[38;5;28;01mreturn\u001b[39;00m res\n",
      "File \u001b[0;32m~/qcal/qcal/characterization/coherence.py:283\u001b[0m, in \u001b[0;36mT1.<locals>.T1.run\u001b[0;34m(self)\u001b[0m\n\u001b[1;32m    281\u001b[0m \u001b[38;5;250m\u001b[39m\u001b[38;5;124;03m\"\"\"Run all experimental methods and analyze results.\"\"\"\u001b[39;00m\n\u001b[1;32m    282\u001b[0m \u001b[38;5;28mself\u001b[39m\u001b[38;5;241m.\u001b[39mgenerate_circuits()\n\u001b[0;32m--> 283\u001b[0m \u001b[43mqpu\u001b[49m\u001b[38;5;241;43m.\u001b[39;49m\u001b[43mrun\u001b[49m\u001b[43m(\u001b[49m\u001b[38;5;28;43mself\u001b[39;49m\u001b[43m,\u001b[49m\u001b[43m \u001b[49m\u001b[38;5;28;43mself\u001b[39;49m\u001b[38;5;241;43m.\u001b[39;49m\u001b[43m_circuits\u001b[49m\u001b[43m,\u001b[49m\u001b[43m \u001b[49m\u001b[43msave\u001b[49m\u001b[38;5;241;43m=\u001b[39;49m\u001b[38;5;28;43;01mFalse\u001b[39;49;00m\u001b[43m)\u001b[49m\n\u001b[1;32m    284\u001b[0m \u001b[38;5;28mself\u001b[39m\u001b[38;5;241m.\u001b[39manalyze()\n\u001b[1;32m    285\u001b[0m \u001b[38;5;28mself\u001b[39m\u001b[38;5;241m.\u001b[39msave()\n",
      "File \u001b[0;32m~/qcal/qcal/qpu/qpu.py:442\u001b[0m, in \u001b[0;36mQPU.run\u001b[0;34m(self, circuits, n_shots, n_batches, save)\u001b[0m\n\u001b[1;32m    440\u001b[0m t_start \u001b[38;5;241m=\u001b[39m timeit\u001b[38;5;241m.\u001b[39mdefault_timer()\n\u001b[1;32m    441\u001b[0m \u001b[38;5;28mself\u001b[39m\u001b[38;5;241m.\u001b[39minitialize(circuits, n_shots, n_batches)\n\u001b[0;32m--> 442\u001b[0m \u001b[38;5;28;43mself\u001b[39;49m\u001b[38;5;241;43m.\u001b[39;49m\u001b[43mbatch_measurements\u001b[49m\u001b[43m(\u001b[49m\u001b[43m)\u001b[49m\n\u001b[1;32m    443\u001b[0m \u001b[38;5;28mself\u001b[39m\u001b[38;5;241m.\u001b[39m_runtime[\u001b[38;5;124m'\u001b[39m\u001b[38;5;124mTotal\u001b[39m\u001b[38;5;124m'\u001b[39m] \u001b[38;5;241m+\u001b[39m\u001b[38;5;241m=\u001b[39m \u001b[38;5;28mround\u001b[39m(\n\u001b[1;32m    444\u001b[0m     timeit\u001b[38;5;241m.\u001b[39mdefault_timer() \u001b[38;5;241m-\u001b[39m t_start, \u001b[38;5;241m1\u001b[39m\n\u001b[1;32m    445\u001b[0m )\n\u001b[1;32m    447\u001b[0m clear_output(wait\u001b[38;5;241m=\u001b[39m\u001b[38;5;28;01mTrue\u001b[39;00m)\n",
      "File \u001b[0;32m~/qcal/qcal/qpu/qpu.py:356\u001b[0m, in \u001b[0;36mQPU.batch_measurements\u001b[0;34m(self)\u001b[0m\n\u001b[1;32m    354\u001b[0m \u001b[38;5;28;01mif\u001b[39;00m \u001b[38;5;28mself\u001b[39m\u001b[38;5;241m.\u001b[39m_circuits\u001b[38;5;241m.\u001b[39mn_circuits \u001b[38;5;241m<\u001b[39m\u001b[38;5;241m=\u001b[39m \u001b[38;5;28mself\u001b[39m\u001b[38;5;241m.\u001b[39m_n_circs_per_seq:\n\u001b[1;32m    355\u001b[0m     logger\u001b[38;5;241m.\u001b[39minfo(\u001b[38;5;124m'\u001b[39m\u001b[38;5;124m No batching...\u001b[39m\u001b[38;5;124m'\u001b[39m)\n\u001b[0;32m--> 356\u001b[0m     \u001b[38;5;28;43mself\u001b[39;49m\u001b[38;5;241;43m.\u001b[39;49m\u001b[43mmeasure\u001b[49m\u001b[43m(\u001b[49m\u001b[43m)\u001b[49m\n\u001b[1;32m    358\u001b[0m \u001b[38;5;28;01melse\u001b[39;00m: \n\u001b[1;32m    359\u001b[0m     n_circ_batches \u001b[38;5;241m=\u001b[39m \u001b[38;5;28mint\u001b[39m(\n\u001b[1;32m    360\u001b[0m             np\u001b[38;5;241m.\u001b[39mceil(\u001b[38;5;28mself\u001b[39m\u001b[38;5;241m.\u001b[39m_circuits\u001b[38;5;241m.\u001b[39mn_circuits \u001b[38;5;241m/\u001b[39m \u001b[38;5;28mself\u001b[39m\u001b[38;5;241m.\u001b[39m_n_circs_per_seq)\n\u001b[1;32m    361\u001b[0m         )\n",
      "File \u001b[0;32m~/qcal/qcal/qpu/qpu.py:333\u001b[0m, in \u001b[0;36mQPU.measure\u001b[0;34m(self)\u001b[0m\n\u001b[1;32m    331\u001b[0m logger\u001b[38;5;241m.\u001b[39minfo(\u001b[38;5;124m'\u001b[39m\u001b[38;5;124m Generating sequences...\u001b[39m\u001b[38;5;124m'\u001b[39m)\n\u001b[1;32m    332\u001b[0m t0 \u001b[38;5;241m=\u001b[39m timeit\u001b[38;5;241m.\u001b[39mdefault_timer()\n\u001b[0;32m--> 333\u001b[0m \u001b[38;5;28;43mself\u001b[39;49m\u001b[38;5;241;43m.\u001b[39;49m\u001b[43mgenerate_sequence\u001b[49m\u001b[43m(\u001b[49m\u001b[43m)\u001b[49m\n\u001b[1;32m    334\u001b[0m \u001b[38;5;28mself\u001b[39m\u001b[38;5;241m.\u001b[39m_runtime[\u001b[38;5;124m'\u001b[39m\u001b[38;5;124mSequencing\u001b[39m\u001b[38;5;124m'\u001b[39m] \u001b[38;5;241m+\u001b[39m\u001b[38;5;241m=\u001b[39m \u001b[38;5;28mround\u001b[39m(\n\u001b[1;32m    335\u001b[0m     timeit\u001b[38;5;241m.\u001b[39mdefault_timer() \u001b[38;5;241m-\u001b[39m t0, \u001b[38;5;241m1\u001b[39m\n\u001b[1;32m    336\u001b[0m )\n\u001b[1;32m    338\u001b[0m logger\u001b[38;5;241m.\u001b[39minfo(\u001b[38;5;124m'\u001b[39m\u001b[38;5;124m Writing sequences...\u001b[39m\u001b[38;5;124m'\u001b[39m)\n",
      "File \u001b[0;32m~/qcal/qcal/backend/qubic/qpu.py:246\u001b[0m, in \u001b[0;36mQubicQPU.generate_sequence\u001b[0;34m(self)\u001b[0m\n\u001b[1;32m    236\u001b[0m \u001b[38;5;250m\u001b[39m\u001b[38;5;124;03m\"\"\"Generate a QubiC sequence.\u001b[39;00m\n\u001b[1;32m    237\u001b[0m \n\u001b[1;32m    238\u001b[0m \u001b[38;5;124;03mThis occurs in two steps:\u001b[39;00m\n\u001b[0;32m   (...)\u001b[0m\n\u001b[1;32m    242\u001b[0m \u001b[38;5;124;03m    \"sequence.\"\u001b[39;00m\n\u001b[1;32m    243\u001b[0m \u001b[38;5;124;03m\"\"\"\u001b[39;00m\n\u001b[1;32m    244\u001b[0m \u001b[38;5;28;01mfrom\u001b[39;00m \u001b[38;5;21;01mqubic\u001b[39;00m\u001b[38;5;21;01m.\u001b[39;00m\u001b[38;5;21;01mtoolchain\u001b[39;00m \u001b[38;5;28;01mimport\u001b[39;00m run_compile_stage, run_assemble_stage\n\u001b[0;32m--> 246\u001b[0m \u001b[38;5;28mself\u001b[39m\u001b[38;5;241m.\u001b[39m_exp_circuits \u001b[38;5;241m=\u001b[39m \u001b[38;5;28;43mself\u001b[39;49m\u001b[38;5;241;43m.\u001b[39;49m\u001b[43m_qubic_transpiler\u001b[49m\u001b[38;5;241;43m.\u001b[39;49m\u001b[43mtranspile\u001b[49m\u001b[43m(\u001b[49m\n\u001b[1;32m    247\u001b[0m \u001b[43m    \u001b[49m\u001b[38;5;28;43mself\u001b[39;49m\u001b[38;5;241;43m.\u001b[39;49m\u001b[43m_exp_circuits\u001b[49m\n\u001b[1;32m    248\u001b[0m \u001b[43m\u001b[49m\u001b[43m)\u001b[49m\n\u001b[1;32m    250\u001b[0m \u001b[38;5;28;01mif\u001b[39;00m \u001b[38;5;28mself\u001b[39m\u001b[38;5;241m.\u001b[39m_raster_circuits:\n\u001b[1;32m    251\u001b[0m     rastered_circuit \u001b[38;5;241m=\u001b[39m []\n",
      "File \u001b[0;32m~/qcal/qcal/backend/qubic/transpiler.py:920\u001b[0m, in \u001b[0;36mTranspiler.transpile\u001b[0;34m(self, circuits)\u001b[0m\n\u001b[1;32m    916\u001b[0m         \u001b[38;5;28;01mfor\u001b[39;00m param \u001b[38;5;129;01min\u001b[39;00m params:  \u001b[38;5;66;03m# [7:] removes the string 'param: '\u001b[39;00m\n\u001b[1;32m    917\u001b[0m             \u001b[38;5;28mself\u001b[39m\u001b[38;5;241m.\u001b[39m_config[param[\u001b[38;5;241m7\u001b[39m:]] \u001b[38;5;241m=\u001b[39m circuits[param]\u001b[38;5;241m.\u001b[39miloc[i]\n\u001b[1;32m    919\u001b[0m     transpiled_circuits\u001b[38;5;241m.\u001b[39mappend(\n\u001b[0;32m--> 920\u001b[0m         \u001b[43mto_qubic\u001b[49m\u001b[43m(\u001b[49m\n\u001b[1;32m    921\u001b[0m \u001b[43m            \u001b[49m\u001b[43mconfig\u001b[49m\u001b[38;5;241;43m=\u001b[39;49m\u001b[38;5;28;43mself\u001b[39;49m\u001b[38;5;241;43m.\u001b[39;49m\u001b[43m_config\u001b[49m\u001b[43m,\u001b[49m\u001b[43m \u001b[49m\n\u001b[1;32m    922\u001b[0m \u001b[43m            \u001b[49m\u001b[43mcircuit\u001b[49m\u001b[38;5;241;43m=\u001b[39;49m\u001b[43mcircuit\u001b[49m\u001b[43m,\u001b[49m\u001b[43m \u001b[49m\n\u001b[1;32m    923\u001b[0m \u001b[43m            \u001b[49m\u001b[43mgate_mapper\u001b[49m\u001b[38;5;241;43m=\u001b[39;49m\u001b[38;5;28;43mself\u001b[39;49m\u001b[38;5;241;43m.\u001b[39;49m\u001b[43m_gate_mapper\u001b[49m\u001b[43m,\u001b[49m\u001b[43m \u001b[49m\n\u001b[1;32m    924\u001b[0m \u001b[43m            \u001b[49m\u001b[43mpulses\u001b[49m\u001b[38;5;241;43m=\u001b[39;49m\u001b[38;5;28;43mself\u001b[39;49m\u001b[38;5;241;43m.\u001b[39;49m\u001b[43m_pulses\u001b[49m\u001b[43m,\u001b[49m\n\u001b[1;32m    925\u001b[0m \u001b[43m            \u001b[49m\u001b[43mhardware_vz_qubits\u001b[49m\u001b[38;5;241;43m=\u001b[39;49m\u001b[38;5;28;43mself\u001b[39;49m\u001b[38;5;241;43m.\u001b[39;49m\u001b[43m_hardware_vz_qubits\u001b[49m\n\u001b[1;32m    926\u001b[0m \u001b[43m        \u001b[49m\u001b[43m)\u001b[49m\n\u001b[1;32m    927\u001b[0m     )\n\u001b[1;32m    929\u001b[0m \u001b[38;5;28;01mif\u001b[39;00m params:\n\u001b[1;32m    930\u001b[0m     \u001b[38;5;28mself\u001b[39m\u001b[38;5;241m.\u001b[39m_config\u001b[38;5;241m.\u001b[39mreload()  \u001b[38;5;66;03m# Reload after making all the changes\u001b[39;00m\n",
      "File \u001b[0;32m~/qcal/qcal/backend/qubic/transpiler.py:791\u001b[0m, in \u001b[0;36mto_qubic\u001b[0;34m(config, circuit, gate_mapper, pulses, hardware_vz_qubits)\u001b[0m\n\u001b[1;32m    789\u001b[0m \u001b[38;5;66;03m# Add (optional) readout heralding\u001b[39;00m\n\u001b[1;32m    790\u001b[0m \u001b[38;5;28;01mif\u001b[39;00m config\u001b[38;5;241m.\u001b[39mparameters[\u001b[38;5;124m'\u001b[39m\u001b[38;5;124mreadout\u001b[39m\u001b[38;5;124m'\u001b[39m][\u001b[38;5;124m'\u001b[39m\u001b[38;5;124mherald\u001b[39m\u001b[38;5;124m'\u001b[39m]:\n\u001b[0;32m--> 791\u001b[0m     \u001b[43madd_heralding\u001b[49m\u001b[43m(\u001b[49m\u001b[43mconfig\u001b[49m\u001b[43m,\u001b[49m\u001b[43m \u001b[49m\u001b[43mcircuit\u001b[49m\u001b[38;5;241;43m.\u001b[39;49m\u001b[43mqubits\u001b[49m\u001b[43m,\u001b[49m\u001b[43m \u001b[49m\u001b[43mqubic_circuit\u001b[49m\u001b[43m,\u001b[49m\u001b[43m \u001b[49m\u001b[43mpulses\u001b[49m\u001b[43m)\u001b[49m\n\u001b[1;32m    793\u001b[0m \u001b[38;5;28;01mfor\u001b[39;00m cycle \u001b[38;5;129;01min\u001b[39;00m circuit\u001b[38;5;241m.\u001b[39mcycles:\n\u001b[1;32m    795\u001b[0m     \u001b[38;5;28;01mif\u001b[39;00m \u001b[38;5;129;01mnot\u001b[39;00m cycle\u001b[38;5;241m.\u001b[39mis_barrier:\n",
      "File \u001b[0;32m~/qcal/qcal/backend/qubic/transpiler.py:184\u001b[0m, in \u001b[0;36madd_heralding\u001b[0;34m(config, qubits, circuit, pulses)\u001b[0m\n\u001b[1;32m    175\u001b[0m \u001b[38;5;250m\u001b[39m\u001b[38;5;124;03m\"\"\"Add heralded readout to the beginning of the circuit.\u001b[39;00m\n\u001b[1;32m    176\u001b[0m \n\u001b[1;32m    177\u001b[0m \u001b[38;5;124;03mArgs:\u001b[39;00m\n\u001b[0;32m   (...)\u001b[0m\n\u001b[1;32m    181\u001b[0m \u001b[38;5;124;03m    pulses (defaultdict):  pulses that have been stored for reuse.\u001b[39;00m\n\u001b[1;32m    182\u001b[0m \u001b[38;5;124;03m\"\"\"\u001b[39;00m\n\u001b[1;32m    183\u001b[0m \u001b[38;5;28;01mfor\u001b[39;00m q \u001b[38;5;129;01min\u001b[39;00m qubits:\n\u001b[0;32m--> 184\u001b[0m     \u001b[43madd_measurement\u001b[49m\u001b[43m(\u001b[49m\u001b[43mconfig\u001b[49m\u001b[43m,\u001b[49m\u001b[43m \u001b[49m\u001b[43mq\u001b[49m\u001b[43m,\u001b[49m\u001b[43m \u001b[49m\u001b[43mcircuit\u001b[49m\u001b[43m,\u001b[49m\u001b[43m \u001b[49m\u001b[43mpulses\u001b[49m\u001b[43m)\u001b[49m\n\u001b[1;32m    186\u001b[0m circuit\u001b[38;5;241m.\u001b[39mextend((\n\u001b[1;32m    187\u001b[0m         {\u001b[38;5;124m'\u001b[39m\u001b[38;5;124mname\u001b[39m\u001b[38;5;124m'\u001b[39m:  \u001b[38;5;124m'\u001b[39m\u001b[38;5;124mdelay\u001b[39m\u001b[38;5;124m'\u001b[39m,\n\u001b[1;32m    188\u001b[0m          \u001b[38;5;124m'\u001b[39m\u001b[38;5;124mt\u001b[39m\u001b[38;5;124m'\u001b[39m:     config[\u001b[38;5;124m'\u001b[39m\u001b[38;5;124mreadout/reset\u001b[39m\u001b[38;5;124m'\u001b[39m],\n\u001b[1;32m    189\u001b[0m          \u001b[38;5;124m'\u001b[39m\u001b[38;5;124mqubit\u001b[39m\u001b[38;5;124m'\u001b[39m: [\u001b[38;5;124mf\u001b[39m\u001b[38;5;124m'\u001b[39m\u001b[38;5;124mQ\u001b[39m\u001b[38;5;132;01m{\u001b[39;00mq\u001b[38;5;132;01m}\u001b[39;00m\u001b[38;5;124m'\u001b[39m \u001b[38;5;28;01mfor\u001b[39;00m q \u001b[38;5;129;01min\u001b[39;00m qubits]},\n\u001b[1;32m    190\u001b[0m         {\u001b[38;5;124m'\u001b[39m\u001b[38;5;124mname\u001b[39m\u001b[38;5;124m'\u001b[39m: \u001b[38;5;124m'\u001b[39m\u001b[38;5;124mbarrier\u001b[39m\u001b[38;5;124m'\u001b[39m, \u001b[38;5;124m'\u001b[39m\u001b[38;5;124mqubit\u001b[39m\u001b[38;5;124m'\u001b[39m: [\u001b[38;5;124mf\u001b[39m\u001b[38;5;124m'\u001b[39m\u001b[38;5;124mQ\u001b[39m\u001b[38;5;132;01m{\u001b[39;00mq\u001b[38;5;132;01m}\u001b[39;00m\u001b[38;5;124m'\u001b[39m \u001b[38;5;28;01mfor\u001b[39;00m q \u001b[38;5;129;01min\u001b[39;00m qubits]}\n\u001b[1;32m    191\u001b[0m      ))\n",
      "File \u001b[0;32m~/qcal/qcal/backend/qubic/transpiler.py:237\u001b[0m, in \u001b[0;36madd_measurement\u001b[0;34m(config, qubit_or_meas, circuit, pulses, reset)\u001b[0m\n\u001b[1;32m    229\u001b[0m             meas_pulse\u001b[38;5;241m.\u001b[39mappend(\n\u001b[1;32m    230\u001b[0m                 {\u001b[38;5;124m'\u001b[39m\u001b[38;5;124mname\u001b[39m\u001b[38;5;124m'\u001b[39m:  \u001b[38;5;124m'\u001b[39m\u001b[38;5;124mdelay\u001b[39m\u001b[38;5;124m'\u001b[39m,\n\u001b[1;32m    231\u001b[0m                  \u001b[38;5;124m'\u001b[39m\u001b[38;5;124mt\u001b[39m\u001b[38;5;124m'\u001b[39m:     length, \n\u001b[1;32m    232\u001b[0m                  \u001b[38;5;124m'\u001b[39m\u001b[38;5;124mqubit\u001b[39m\u001b[38;5;124m'\u001b[39m: [\u001b[38;5;124mf\u001b[39m\u001b[38;5;124m'\u001b[39m\u001b[38;5;124mQ\u001b[39m\u001b[38;5;132;01m{\u001b[39;00mqubit\u001b[38;5;132;01m}\u001b[39;00m\u001b[38;5;124m'\u001b[39m]}\n\u001b[1;32m    233\u001b[0m             )\n\u001b[1;32m    235\u001b[0m \u001b[38;5;66;03m# Barrier before readout\u001b[39;00m\n\u001b[1;32m    236\u001b[0m meas_pulse\u001b[38;5;241m.\u001b[39mappend(\n\u001b[0;32m--> 237\u001b[0m     {\u001b[38;5;124m'\u001b[39m\u001b[38;5;124mname\u001b[39m\u001b[38;5;124m'\u001b[39m: \u001b[38;5;124m'\u001b[39m\u001b[38;5;124mbarrier\u001b[39m\u001b[38;5;124m'\u001b[39m, \u001b[38;5;124m'\u001b[39m\u001b[38;5;124mqubit\u001b[39m\u001b[38;5;124m'\u001b[39m: [\u001b[38;5;124mf\u001b[39m\u001b[38;5;124m'\u001b[39m\u001b[38;5;124mQ\u001b[39m\u001b[38;5;132;01m{\u001b[39;00mq\u001b[38;5;132;01m}\u001b[39;00m\u001b[38;5;124m'\u001b[39m \u001b[38;5;28;01mfor\u001b[39;00m q \u001b[38;5;129;01min\u001b[39;00m \u001b[43mqubits\u001b[49m]}\n\u001b[1;32m    238\u001b[0m )\n\u001b[1;32m    240\u001b[0m \u001b[38;5;28;01mfor\u001b[39;00m qubit \u001b[38;5;129;01min\u001b[39;00m qubits:\n\u001b[1;32m    241\u001b[0m     meas_pulse\u001b[38;5;241m.\u001b[39mextend(cycle_pulse(config, Cycle({Meas(qubit)})))\n",
      "\u001b[0;31mUnboundLocalError\u001b[0m: cannot access local variable 'qubits' where it is not associated with a value"
     ]
    }
   ],
   "source": [
    "run_t1('Q0', akel_config)"
   ]
  },
  {
   "cell_type": "code",
   "execution_count": 30,
   "metadata": {},
   "outputs": [
    {
     "name": "stdout",
     "output_type": "stream",
     "text": [
      "> \u001b[0;32m/home/jpmarceaux/qcal/qcal/backend/qubic/transpiler.py\u001b[0m(237)\u001b[0;36madd_measurement\u001b[0;34m()\u001b[0m\n",
      "\u001b[0;32m    235 \u001b[0;31m    \u001b[0;31m# Barrier before readout\u001b[0m\u001b[0;34m\u001b[0m\u001b[0;34m\u001b[0m\u001b[0m\n",
      "\u001b[0m\u001b[0;32m    236 \u001b[0;31m    meas_pulse.append(\n",
      "\u001b[0m\u001b[0;32m--> 237 \u001b[0;31m        \u001b[0;34m{\u001b[0m\u001b[0;34m'name'\u001b[0m\u001b[0;34m:\u001b[0m \u001b[0;34m'barrier'\u001b[0m\u001b[0;34m,\u001b[0m \u001b[0;34m'qubit'\u001b[0m\u001b[0;34m:\u001b[0m \u001b[0;34m[\u001b[0m\u001b[0;34mf'Q{q}'\u001b[0m \u001b[0;32mfor\u001b[0m \u001b[0mq\u001b[0m \u001b[0;32min\u001b[0m \u001b[0mqubits\u001b[0m\u001b[0;34m]\u001b[0m\u001b[0;34m}\u001b[0m\u001b[0;34m\u001b[0m\u001b[0;34m\u001b[0m\u001b[0m\n",
      "\u001b[0m\u001b[0;32m    238 \u001b[0;31m    )\n",
      "\u001b[0m\u001b[0;32m    239 \u001b[0;31m\u001b[0;34m\u001b[0m\u001b[0m\n",
      "\u001b[0m\n"
     ]
    },
    {
     "name": "stdout",
     "output_type": "stream",
     "text": [
      "*** NameError: name 'qubits' is not defined\n",
      "*** NameError: name 'qubits' is not defined\n",
      "> \u001b[0;32m/home/jpmarceaux/qcal/qcal/backend/qubic/transpiler.py\u001b[0m(184)\u001b[0;36madd_heralding\u001b[0;34m()\u001b[0m\n",
      "\u001b[0;32m    182 \u001b[0;31m    \"\"\"\n",
      "\u001b[0m\u001b[0;32m    183 \u001b[0;31m    \u001b[0;32mfor\u001b[0m \u001b[0mq\u001b[0m \u001b[0;32min\u001b[0m \u001b[0mqubits\u001b[0m\u001b[0;34m:\u001b[0m\u001b[0;34m\u001b[0m\u001b[0;34m\u001b[0m\u001b[0m\n",
      "\u001b[0m\u001b[0;32m--> 184 \u001b[0;31m        \u001b[0madd_measurement\u001b[0m\u001b[0;34m(\u001b[0m\u001b[0mconfig\u001b[0m\u001b[0;34m,\u001b[0m \u001b[0mq\u001b[0m\u001b[0;34m,\u001b[0m \u001b[0mcircuit\u001b[0m\u001b[0;34m,\u001b[0m \u001b[0mpulses\u001b[0m\u001b[0;34m)\u001b[0m\u001b[0;34m\u001b[0m\u001b[0;34m\u001b[0m\u001b[0m\n",
      "\u001b[0m\u001b[0;32m    185 \u001b[0;31m\u001b[0;34m\u001b[0m\u001b[0m\n",
      "\u001b[0m\u001b[0;32m    186 \u001b[0;31m    circuit.extend((\n",
      "\u001b[0m\n",
      "('0',)\n"
     ]
    }
   ],
   "source": [
    "debug"
   ]
  },
  {
   "cell_type": "code",
   "execution_count": 7,
   "metadata": {},
   "outputs": [
    {
     "name": "stderr",
     "output_type": "stream",
     "text": [
      "INFO:QPU: Data save location: /home/jpmarceaux/experiment/data/2024-11-08/20241108_123848_T1_Q1/\n",
      "\n"
     ]
    },
    {
     "data": {
      "image/png": "[encoded data removed]",
      "text/plain": [
       "<Figure size 500x400 with 1 Axes>"
      ]
     },
     "metadata": {},
     "output_type": "display_data"
    },
    {
     "name": "stderr",
     "output_type": "stream",
     "text": [
      "INFO:qcal.config: Param ['single_qubit', 1, 'GE', 'T1'] set to 8.4e-05.\n"
     ]
    },
    {
     "name": "stdout",
     "output_type": "stream",
     "text": [
      "\n",
      "Runtime:   Compile  Transpile  Sequencing  Write  Measure  Process  Total\n",
      "Time (s)      0.0        0.0         0.2    0.0     63.0      0.1   63.3\n",
      "\n"
     ]
    }
   ],
   "source": [
    "akel_config.load()\n",
    "\n",
    "qubits = (1,)\n",
    "n_elements = 50\n",
    "char1 = T1(\n",
    "      QubicQPU,\n",
    "      akel_config,\n",
    "      qubits,\n",
    "      t_max=500*us,\n",
    "      classifier=classifier,\n",
    "      n_elements=n_elements,\n",
    "      n_circs_per_seq=n_elements,\n",
    "      reload_freq=False,\n",
    "      reload_env=False,\n",
    "      zero_between_reload=False\n",
    "  )\n",
    "char1.run()"
   ]
  },
  {
   "cell_type": "code",
   "execution_count": 23,
   "metadata": {},
   "outputs": [
    {
     "name": "stderr",
     "output_type": "stream",
     "text": [
      "INFO:QPU: Data save location: /home/jpmarceaux/experiment/data/2024-11-08/20241108_124525_T2_Q0/\n",
      "\n"
     ]
    },
    {
     "data": {
      "image/png": "[encoded data removed]",
      "text/plain": [
       "<Figure size 500x400 with 1 Axes>"
      ]
     },
     "metadata": {},
     "output_type": "display_data"
    },
    {
     "name": "stderr",
     "output_type": "stream",
     "text": [
      "INFO:qcal.config: Param ['single_qubit', 0, 'GE', 'T2*'] set to 9.2e-05.\n"
     ]
    },
    {
     "name": "stdout",
     "output_type": "stream",
     "text": [
      "\n",
      "Runtime:   Compile  Transpile  Sequencing  Write  Measure  Process  Total\n",
      "Time (s)      0.0        0.0         0.2    0.0     51.8      0.1   52.0\n",
      "\n"
     ]
    }
   ],
   "source": [
    "akel_config.load()\n",
    "\n",
    "qubits = (0,)\n",
    "n_elements = 50\n",
    "char = T2(\n",
    "      QubicQPU,\n",
    "      akel_config,\n",
    "      qubits,\n",
    "      t_max=300*us,\n",
    "      echo=False,\n",
    "      detuning=25*kHz,\n",
    "      classifier=classifier,\n",
    "      n_elements=n_elements,\n",
    "      n_circs_per_seq=n_elements,\n",
    "      reload_freq=False,\n",
    "      reload_env=False,\n",
    "      zero_between_reload=False\n",
    "  )\n",
    "char.run()"
   ]
  },
  {
   "cell_type": "code",
   "execution_count": 24,
   "metadata": {},
   "outputs": [
    {
     "data": {
      "text/plain": [
       "{0: 9.2e-05}"
      ]
     },
     "execution_count": 24,
     "metadata": {},
     "output_type": "execute_result"
    }
   ],
   "source": [
    "char._char_values"
   ]
  },
  {
   "cell_type": "code",
   "execution_count": 17,
   "metadata": {},
   "outputs": [
    {
     "name": "stdout",
     "output_type": "stream",
     "text": [
      "\u001b[0;31mType:\u001b[0m           T1\n",
      "\u001b[0;31mString form:\u001b[0m    <qcal.characterization.coherence.T1.<locals>.T1 object at 0x70a6c8b7c350>\n",
      "\u001b[0;31mFile:\u001b[0m           ~/qcal/qcal/characterization/coherence.py\n",
      "\u001b[0;31mDocstring:\u001b[0m     \n",
      "T1 characterization class.\n",
      "\n",
      "This class inherits a custom QPU from the T1 characterization\n",
      "function.\n",
      "\u001b[0;31mInit docstring:\u001b[0m Initialize the T1 experiment class within the function."
     ]
    }
   ],
   "source": [
    "char1?"
   ]
  },
  {
   "cell_type": "code",
   "execution_count": 20,
   "metadata": {},
   "outputs": [
    {
     "data": {
      "text/plain": [
       "8.4e-05"
      ]
     },
     "execution_count": 20,
     "metadata": {},
     "output_type": "execute_result"
    }
   ],
   "source": [
    "char1._char_values[1]"
   ]
  },
  {
   "cell_type": "code",
   "execution_count": 16,
   "metadata": {},
   "outputs": [],
   "source": [
    "def run_ramsey_rpe(qid, config, depths, num_shots_per_circuit, classifier):\n",
    "    edesign_ramsey = EDesign_Ramsey(depths, [qid])\n",
    "    ds_0_ramsey = make_dataset(config, edesign_ramsey, num_shots_per_circuit, classifier)\n",
    "    analysis_ramsey0 = Analysis_Ramsey(ds_0_ramsey, edesign_ramsey)\n",
    "    return ds_0_ramsey, analysis_ramsey0\n",
    "\n",
    "def run_xgate_rpe(qid, config, depths, num_shots_per_circuit, classifier):\n",
    "    edesign_xgate = EDesign_Xgate(depths, [qid])\n",
    "    ds_0_xgate = make_dataset(config, edesign_xgate, num_shots_per_circuit, classifier)\n",
    "    analysis_xgate0 = Analysis_Xgate(ds_0_xgate, edesign_xgate)\n",
    "    return ds_0_xgate, analysis_xgate0\n",
    "\n",
    "def run_cz_rpe(qids, config, depths, num_shots_per_circuit, classifier):\n",
    "    edesign_cz = EDesign_CZ(depths, qids)\n",
    "    ds_0_cz = make_dataset(config, edesign_cz, num_shots_per_circuit, classifier)\n",
    "    analysis_cz0 = Analysis_CZ(ds_0_cz, edesign_cz)\n",
    "    return ds_0_cz, analysis_cz0\n"
   ]
  },
  {
   "cell_type": "code",
   "execution_count": 18,
   "metadata": {},
   "outputs": [],
   "source": [
    "depths_ramsey = [2**i for i in range(12)]\n",
    "depths_xgate = [2**i for i in range(9)]\n",
    "depths_cz = [2**i for i in range(6)]\n",
    "num_shots_per_circuit = 1000\n",
    "\n"
   ]
  },
  {
   "cell_type": "code",
   "execution_count": 6,
   "metadata": {},
   "outputs": [
    {
     "name": "stdout",
     "output_type": "stream",
     "text": [
      "Reading /home/jpmarceaux/experiment/data/2024-11-06/20241106_144119/RPE_dataset.txt: 100%\n"
     ]
    }
   ],
   "source": [
    "ds_ramsey, analysis_ramsey = run_ramsey_rpe('Q0', akel_config, depths_ramsey, 1000, classifier)"
   ]
  },
  {
   "cell_type": "code",
   "execution_count": 14,
   "metadata": {},
   "outputs": [
    {
     "name": "stdout",
     "output_type": "stream",
     "text": [
      "Reading /home/jpmarceaux/experiment/data/2024-11-06/20241106_144325/RPE_dataset.txt: 100%\n"
     ]
    }
   ],
   "source": [
    "ds_xgate, analysis_xgate = run_xgate_rpe('Q0', akel_config, depths_xgate, 1000, classifier)\n"
   ]
  },
  {
   "cell_type": "code",
   "execution_count": 19,
   "metadata": {},
   "outputs": [
    {
     "name": "stdout",
     "output_type": "stream",
     "text": [
      "Reading /home/jpmarceaux/experiment/data/2024-11-06/20241106_144605/RPE_dataset.txt: 100%\n"
     ]
    }
   ],
   "source": [
    "ds_cz, analysis_cz = run_cz_rpe(['Q0', 'Q1'], akel_config, depths_cz, 1000, classifier)"
   ]
  },
  {
   "cell_type": "code",
   "execution_count": 22,
   "metadata": {},
   "outputs": [
    {
     "data": {
      "text/plain": [
       "'/home/jpmarceaux/longtime_stability'"
      ]
     },
     "execution_count": 22,
     "metadata": {},
     "output_type": "execute_result"
    }
   ],
   "source": [
    "pwd"
   ]
  },
  {
   "cell_type": "code",
   "execution_count": 27,
   "metadata": {},
   "outputs": [],
   "source": [
    "pygsti.io.write_dataset('drift_characterization_experiments/nov6_2024/test.txt', ds_ramsey)"
   ]
  },
  {
   "cell_type": "code",
   "execution_count": 25,
   "metadata": {},
   "outputs": [],
   "source": [
    "ds_cz.write_binary('drift_characterization_experiments/nov6_2024/test')"
   ]
  },
  {
   "cell_type": "code",
   "execution_count": 21,
   "metadata": {},
   "outputs": [
    {
     "data": {
      "text/plain": [
       "6.133333333333334"
      ]
     },
     "execution_count": 21,
     "metadata": {},
     "output_type": "execute_result"
    }
   ],
   "source": [
    "(50*6 + 34*2)/60"
   ]
  },
  {
   "cell_type": "code",
   "execution_count": 15,
   "metadata": {},
   "outputs": [
    {
     "name": "stdout",
     "output_type": "stream",
     "text": [
      "{'idle': -0.000141777562297829}\n",
      "{'X overrot': 0.302797777123069, 'X axis': 0.0018468508262805311}\n"
     ]
    }
   ],
   "source": [
    "print(analysis_ramsey.estimates)\n",
    "print(analysis_xgate.estimates)\n",
    "print(analysis_cz.estimates)"
   ]
  },
  {
   "cell_type": "code",
   "execution_count": 28,
   "metadata": {},
   "outputs": [],
   "source": [
    "import pickle"
   ]
  },
  {
   "cell_type": "code",
   "execution_count": 30,
   "metadata": {},
   "outputs": [],
   "source": [
    "import time"
   ]
  },
  {
   "cell_type": "code",
   "execution_count": 35,
   "metadata": {},
   "outputs": [
    {
     "name": "stdout",
     "output_type": "stream",
     "text": [
      "Reading /home/jpmarceaux/experiment/data/2024-11-06/20241106_145813/RPE_dataset.txt: 100%\n"
     ]
    },
    {
     "name": "stderr",
     "output_type": "stream",
     "text": [
      "INFO:qcal.config: Param ['readout', 'esp', 'enable'] set to False.\n",
      "INFO:QPU: No batching...\n",
      "INFO:QPU: Generating sequences...\n",
      "INFO:QPU: Writing sequences...\n",
      "INFO:QPU: Measuring...\n"
     ]
    }
   ],
   "source": [
    "# long-term data collection\n",
    "qids_1qb = ['Q0', 'Q1', 'Q2']\n",
    "qids_CZ = [('Q0', 'Q1'), ('Q1', 'Q2')]\n",
    "\n",
    "while(True):\n",
    "    # run ramsey on the qubits\n",
    "    for qid in qids_1qb:\n",
    "        timestamp = time.time()\n",
    "        ds_ramsey, analysis_ramsey = run_ramsey_rpe(qid, akel_config, depths_ramsey, 1000, classifier)\n",
    "        pygsti.io.write_dataset(f'drift_characterization_experiments/nov6_2024/{qid}_ramsey_{timestamp}.txt', ds_ramsey)\n",
    "        # pickle the anlaysis \n",
    "        with open(f'drift_characterization_experiments/nov6_2024/{qid}_ramsey_{timestamp}.pkl', 'wb') as f:\n",
    "            pickle.dump(analysis_ramsey, f)\n",
    "    # run xgate on the qubits\n",
    "    for qid in qids_1qb:\n",
    "        timestamp = time.time()\n",
    "        ds_xgate, analysis_xgate = run_xgate_rpe(qid, akel_config, depths_xgate, 1000, classifier)\n",
    "        pygsti.io.write_dataset(f'drift_characterization_experiments/nov6_2024/{qid}_xgate_{timestamp}.txt', ds_xgate)\n",
    "        # pickle the anlaysis \n",
    "        with open(f'drift_characterization_experiments/nov6_2024/{qid}_xgate_{timestamp}.pkl', 'wb') as f:\n",
    "            pickle.dump(analysis_xgate, f)\n",
    "    # run cz on the qubits\n",
    "    for qids in qids_CZ:\n",
    "        timestamp = time.time()\n",
    "        ds_cz, analysis_cz = run_cz_rpe(qids, akel_config, depths_cz, 1000, classifier)\n",
    "        pygsti.io.write_dataset(f'drift_characterization_experiments/nov6_2024/{qids[0]}_{qids[1]}_cz_{timestamp}.txt', ds_cz)\n",
    "        # pickle the anlaysis \n",
    "        with open(f'drift_characterization_experiments/nov6_2024/{qids[0]}_{qids[1]}_cz_{timestamp}.pkl', 'wb') as f:\n",
    "            pickle.dump(analysis_cz, f)\n",
    "    # wait 10 minutes\n",
    "    time.sleep(600)\n",
    "    \n"
   ]
  },
  {
   "cell_type": "code",
   "execution_count": null,
   "metadata": {},
   "outputs": [],
   "source": []
  }
 ],
 "metadata": {
  "kernelspec": {
   "display_name": "qcal",
   "language": "python",
   "name": "python3"
  },
  "language_info": {
   "codemirror_mode": {
    "name": "ipython",
    "version": 3
   },
   "file_extension": ".py",
   "mimetype": "text/x-python",
   "name": "python",
   "nbconvert_exporter": "python",
   "pygments_lexer": "ipython3",
   "version": "3.11.0"
  }
 },
 "nbformat": 4,
 "nbformat_minor": 2
}
