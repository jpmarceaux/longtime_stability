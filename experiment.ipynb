{
 "cells": [
  {
   "cell_type": "code",
   "execution_count": 1,
   "metadata": {},
   "outputs": [
    {
     "ename": "ImportError",
     "evalue": "cannot import name 'create_XY_model' from 'qcal.modelconstruction.single_qubit_models' (/home/jpmarceaux/qcal/qcal/modelconstruction/single_qubit_models.py)",
     "output_type": "error",
     "traceback": [
      "\u001b[0;31m---------------------------------------------------------------------------\u001b[0m",
      "\u001b[0;31mImportError\u001b[0m                               Traceback (most recent call last)",
      "Cell \u001b[0;32mIn[1], line 10\u001b[0m\n\u001b[1;32m      8\u001b[0m \u001b[38;5;28;01mimport\u001b[39;00m \u001b[38;5;21;01mqcal\u001b[39;00m \u001b[38;5;28;01mas\u001b[39;00m \u001b[38;5;21;01mqc\u001b[39;00m\n\u001b[1;32m      9\u001b[0m \u001b[38;5;28;01mimport\u001b[39;00m \u001b[38;5;21;01mqcal\u001b[39;00m\u001b[38;5;21;01m.\u001b[39;00m\u001b[38;5;21;01mbackend\u001b[39;00m\u001b[38;5;21;01m.\u001b[39;00m\u001b[38;5;21;01mqubic\u001b[39;00m\u001b[38;5;21;01m.\u001b[39;00m\u001b[38;5;21;01mtranspiler\u001b[39;00m \u001b[38;5;28;01mas\u001b[39;00m \u001b[38;5;21;01mqbt\u001b[39;00m\n\u001b[0;32m---> 10\u001b[0m \u001b[38;5;28;01mfrom\u001b[39;00m \u001b[38;5;21;01mqcal\u001b[39;00m\u001b[38;5;21;01m.\u001b[39;00m\u001b[38;5;21;01mcharacterization\u001b[39;00m\u001b[38;5;21;01m.\u001b[39;00m\u001b[38;5;21;01mphase_estimation\u001b[39;00m \u001b[38;5;28;01mimport\u001b[39;00m RPE\n\u001b[1;32m     11\u001b[0m \u001b[38;5;28;01mfrom\u001b[39;00m \u001b[38;5;21;01mqcal\u001b[39;00m\u001b[38;5;21;01m.\u001b[39;00m\u001b[38;5;21;01munits\u001b[39;00m \u001b[38;5;28;01mimport\u001b[39;00m \u001b[38;5;241m*\u001b[39m\n\u001b[1;32m     12\u001b[0m \u001b[38;5;28;01mfrom\u001b[39;00m \u001b[38;5;21;01mqcal\u001b[39;00m\u001b[38;5;21;01m.\u001b[39;00m\u001b[38;5;21;01mutils\u001b[39;00m \u001b[38;5;28;01mimport\u001b[39;00m load_from_pickle\n",
      "File \u001b[0;32m~/qcal/qcal/characterization/phase_estimation.py:16\u001b[0m\n\u001b[1;32m     14\u001b[0m \u001b[38;5;28;01mfrom\u001b[39;00m \u001b[38;5;21;01mqcal\u001b[39;00m\u001b[38;5;21;01m.\u001b[39;00m\u001b[38;5;21;01mqpu\u001b[39;00m\u001b[38;5;21;01m.\u001b[39;00m\u001b[38;5;21;01mqpu\u001b[39;00m \u001b[38;5;28;01mimport\u001b[39;00m QPU\n\u001b[1;32m     15\u001b[0m \u001b[38;5;28;01mfrom\u001b[39;00m \u001b[38;5;21;01mqcal\u001b[39;00m\u001b[38;5;21;01m.\u001b[39;00m\u001b[38;5;21;01mplotting\u001b[39;00m\u001b[38;5;21;01m.\u001b[39;00m\u001b[38;5;21;01mutils\u001b[39;00m \u001b[38;5;28;01mimport\u001b[39;00m calculate_nrows_ncols\n\u001b[0;32m---> 16\u001b[0m \u001b[38;5;28;01mfrom\u001b[39;00m \u001b[38;5;21;01mqcal\u001b[39;00m\u001b[38;5;21;01m.\u001b[39;00m\u001b[38;5;21;01mmodelconstruction\u001b[39;00m\u001b[38;5;21;01m.\u001b[39;00m\u001b[38;5;21;01msingle_qubit_models\u001b[39;00m \u001b[38;5;28;01mimport\u001b[39;00m create_XY_model\n\u001b[1;32m     18\u001b[0m \u001b[38;5;28;01mimport\u001b[39;00m \u001b[38;5;21;01mlogging\u001b[39;00m\n\u001b[1;32m     19\u001b[0m \u001b[38;5;28;01mimport\u001b[39;00m \u001b[38;5;21;01mmatplotlib\u001b[39;00m\u001b[38;5;21;01m.\u001b[39;00m\u001b[38;5;21;01mpyplot\u001b[39;00m \u001b[38;5;28;01mas\u001b[39;00m \u001b[38;5;21;01mplt\u001b[39;00m\n",
      "\u001b[0;31mImportError\u001b[0m: cannot import name 'create_XY_model' from 'qcal.modelconstruction.single_qubit_models' (/home/jpmarceaux/qcal/qcal/modelconstruction/single_qubit_models.py)"
     ]
    }
   ],
   "source": [
    "import logging\n",
    "import matplotlib.pyplot as plt\n",
    "import numpy as np\n",
    "import pandas as pd\n",
    "import pickle\n",
    "import scipy\n",
    "\n",
    "import qcal as qc\n",
    "import qcal.backend.qubic.transpiler as qbt\n",
    "from qcal.characterization.phase_estimation import RPE\n",
    "from qcal.units import *\n",
    "from qcal.utils import load_from_pickle\n",
    "from qcal.backend.qubic.qpu import QubicQPU\n",
    "\n",
    "from qcal.modelconstruction.single_qubit_models import *\n",
    "\n",
    "import plotly.io as pio\n",
    "pio.renderers.default = 'jupyterlab'\n",
    "\n",
    "pd.set_option('display.max_columns', None)\n",
    "\n",
    "logging.basicConfig(level=logging.INFO)\n",
    "\n",
    "%load_ext autoreload\n",
    "%autoreload 2"
   ]
  },
  {
   "cell_type": "code",
   "execution_count": 64,
   "metadata": {},
   "outputs": [],
   "source": [
    "from qcal.characterization.phase_estimation import *"
   ]
  },
  {
   "cell_type": "code",
   "execution_count": 65,
   "metadata": {},
   "outputs": [
    {
     "data": {
      "application/vnd.plotly.v1+json": {
       "config": {
        "plotlyServerURL": "https://plot.ly",
        "toImageButtonOptions": {
         "filename": "qpu_layout",
         "format": "png",
         "scale": 10
        }
       },
       "data": [
        {
         "hoverinfo": "none",
         "line": {
          "color": "#888",
          "width": 0.5
         },
         "mode": "lines",
         "type": "scatter",
         "x": [
          -0.5131885536511431,
          0.26722419696017385,
          null,
          -0.5131885536511431,
          -0.9985502627738047,
          null,
          0.26722419696017385,
          0.8946434011610145,
          null,
          0.8946434011610145,
          1,
          null,
          1,
          0.5123868192126747,
          null,
          0.5123868192126747,
          -0.26744882269528725,
          null,
          -0.26744882269528725,
          -0.8950667782136289,
          null,
          -0.8950667782136289,
          -0.9985502627738047,
          null
         ],
         "y": [
          -0.8795945042250096,
          -0.9765664891694262,
          null,
          -0.8795945042250096,
          -0.2712180928235751,
          null,
          -0.9765664891694262,
          -0.49981414691116843,
          null,
          -0.49981414691116843,
          0.26893125406671853,
          null,
          0.26893125406671853,
          0.8805994251770963,
          null,
          0.8805994251770963,
          0.97513128659277,
          null,
          0.97513128659277,
          0.5025312672925946,
          null,
          0.5025312672925946,
          -0.2712180928235751,
          null
         ]
        },
        {
         "hoverinfo": "text",
         "marker": {
          "color": [
           2,
           2,
           2,
           2,
           2,
           2,
           2,
           2
          ],
          "colorbar": {
           "thickness": 15,
           "title": {
            "side": "right",
            "text": "Qubit Connectivity"
           },
           "xanchor": "left"
          },
          "colorscale": [
           [
            0,
            "rgb(255,255,217)"
           ],
           [
            0.125,
            "rgb(237,248,177)"
           ],
           [
            0.25,
            "rgb(199,233,180)"
           ],
           [
            0.375,
            "rgb(127,205,187)"
           ],
           [
            0.5,
            "rgb(65,182,196)"
           ],
           [
            0.625,
            "rgb(29,145,192)"
           ],
           [
            0.75,
            "rgb(34,94,168)"
           ],
           [
            0.875,
            "rgb(37,52,148)"
           ],
           [
            1,
            "rgb(8,29,88)"
           ]
          ],
          "line": {
           "width": 2
          },
          "reversescale": true,
          "showscale": true,
          "size": 25
         },
         "mode": "markers",
         "text": [
          "GE:<br>  Freq: 5460539717.04333<br>  T1: 0.0001<br>  T2*: 4.6e-05<br>  T2e: 0.00011<br>EF:<br>  Freq: 5200212872.40548<br>  T1: 6.16e-05<br>  T2*: None<br>  T2e: None<br>Connectivity: 2",
          "GE:<br>  Freq: 5329669433.03424<br>  T1: 8.69e-05<br>  T2*: 2e-06<br>  T2e: 8.8e-05<br>EF:<br>  Freq: 5068835523.00038<br>  T1: 4.5e-05<br>  T2*: None<br>  T2e: None<br>Connectivity: 2",
          "GE:<br>  Freq: 5192766846.19105<br>  T1: 6.7e-05<br>  T2*: 5.3e-05<br>  T2e: 0.00013<br>EF:<br>  Freq: 4929957046.77336<br>  T1: 5.86e-05<br>  T2*: None<br>  T2e: None<br>Connectivity: 2",
          "GE:<br>  Freq: 5250488389.75467<br>  T1: 0.00011<br>  T2*: 2e-05<br>  T2e: 9.4e-05<br>EF:<br>  Freq: 4987531723.43778<br>  T1: 5.1e-05<br>  T2*: None<br>  T2e: None<br>Connectivity: 2",
          "GE:<br>  Freq: 5451117407.31679<br>  T1: 0.00012<br>  T2*: 7e-05<br>  T2e: 6.8e-05<br>EF:<br>  Freq: 5191869270.26846<br>  T1: 2.78e-05<br>  T2*: None<br>  T2e: None<br>Connectivity: 2",
          "GE:<br>  Freq: 5566640445.67948<br>  T1: 7.1e-05<br>  T2*: 9.6e-05<br>  T2e: 0.0001<br>EF:<br>  Freq: 5309088050.01996<br>  T1: 4.4e-05<br>  T2*: None<br>  T2e: None<br>Connectivity: 2",
          "GE:<br>  Freq: 5870921525.62523<br>  T1: 5.35e-05<br>  T2*: 6.5e-05<br>  T2e: 8.3e-05<br>EF:<br>  Freq: 5618707006.85352<br>  T1: 3.01e-05<br>  T2*: None<br>  T2e: None<br>Connectivity: 2",
          "GE:<br>  Freq: 5414159838.98483<br>  T1: 2.74e-05<br>  T2*: 3.2e-06<br>  T2e: 2.8e-05<br>EF:<br>  Freq: 5152945768.12754<br>  T1: 1.83e-05<br>  T2*: None<br>  T2e: None<br>Connectivity: 2"
         ],
         "type": "scatter",
         "x": [
          -0.5131885536511431,
          0.26722419696017385,
          0.8946434011610145,
          1,
          0.5123868192126747,
          -0.26744882269528725,
          -0.8950667782136289,
          -0.9985502627738047
         ],
         "y": [
          -0.8795945042250096,
          -0.9765664891694262,
          -0.49981414691116843,
          0.26893125406671853,
          0.8805994251770963,
          0.97513128659277,
          0.5025312672925946,
          -0.2712180928235751
         ]
        },
        {
         "hoverinfo": "text",
         "marker": {
          "color": "#5D69B1",
          "size": 0.01
         },
         "mode": "text",
         "text": [
          "Q0",
          "Q1",
          "Q2",
          "Q3",
          "Q4",
          "Q5",
          "Q6",
          "Q7"
         ],
         "type": "scatter",
         "x": [
          -0.5131885536511431,
          0.26722419696017385,
          0.8946434011610145,
          1,
          0.5123868192126747,
          -0.26744882269528725,
          -0.8950667782136289,
          -0.9985502627738047
         ],
         "y": [
          -0.8795945042250096,
          -0.9765664891694262,
          -0.49981414691116843,
          0.26893125406671853,
          0.8805994251770963,
          0.97513128659277,
          0.5025312672925946,
          -0.2712180928235751
         ]
        },
        {
         "hoverinfo": "text",
         "marker": {
          "opacity": 0
         },
         "mode": "markers",
         "text": [
          "CZ:<br>  Freq: 5365000000.0<br>",
          "CZ:<br>  Freq: 5115000000.0<br>",
          "CZ:<br>  Freq: 5162000000.0<br>",
          "CZ:<br>  Freq: 5283000000.0<br>",
          "CZ:<br>  Freq: 5344000000.0<br>",
          "CZ:<br>  Freq: 5505000000.0<br>",
          "CZ:<br>  Freq: 5495000000.0<br>",
          "CZ:<br>  Freq: 5385000000.0<br>"
         ],
         "type": "scatter",
         "x": [
          -0.12298217834548464,
          -0.755869408212474,
          0.5809337990605942,
          0.9473217005805072,
          0.7561934096063374,
          0.12246899825869373,
          -0.5812578004544581,
          -0.9468085204937168
         ],
         "y": [
          -0.9280804966972179,
          -0.5754062985242924,
          -0.7381903180402973,
          -0.11544144642222495,
          0.5747653396219075,
          0.9278653558849332,
          0.7388312769426824,
          0.11565658723450972
         ]
        }
       ],
       "layout": {
        "annotations": [
         {
          "font": {
           "size": 25
          },
          "showarrow": false,
          "text": "QPU",
          "x": 0.005,
          "xref": "paper",
          "y": -0.002,
          "yref": "paper"
         }
        ],
        "hovermode": "closest",
        "margin": {
         "b": 20,
         "l": 5,
         "r": 5,
         "t": 40
        },
        "showlegend": false,
        "template": {
         "data": {
          "scatter": [
           {
            "type": "scatter"
           }
          ]
         }
        },
        "title": {
         "font": {
          "size": 16
         }
        },
        "xaxis": {
         "showgrid": false,
         "showticklabels": false,
         "zeroline": false
        },
        "yaxis": {
         "showgrid": false,
         "showticklabels": false,
         "zeroline": false
        }
       }
      }
     },
     "metadata": {},
     "output_type": "display_data"
    }
   ],
   "source": [
    "import qcal.settings as settings\n",
    "basedir = '/home/jpmarceaux/experiment/'\n",
    "settings.Settings.config_path = basedir + 'config/'\n",
    "settings.Settings.data_path = basedir + 'data/'\n",
    "settings.Settings.save_data = True\n",
    "\n",
    "classifier = load_from_pickle(settings.Settings.config_path + 'ClassificationManager.pkl')\n",
    "\n",
    "cfg = qc.Config()\n",
    "# cfg = qc.Config(basedir + 'config/Campbell06/X6Y3/config_jan.yaml')\n",
    "# cfg = qc.Config(basedir + 'config/Campbell06/X6Y3/config_abhi.yaml')\n",
    "cfg.draw_qpu()"
   ]
  },
  {
   "cell_type": "code",
   "execution_count": 93,
   "metadata": {},
   "outputs": [],
   "source": [
    "# Simulated test"
   ]
  },
  {
   "cell_type": "code",
   "execution_count": 108,
   "metadata": {},
   "outputs": [
    {
     "name": "stderr",
     "output_type": "stream",
     "text": [
      "INFO:qcal.characterization.phase_estimation: pyGSTi version: 0.9.12.2\n",
      "\n",
      "INFO:qcal.characterization.phase_estimation: Generating circuits from pyGSTi...\n"
     ]
    }
   ],
   "source": [
    "rpe = RPE(\n",
    "    QubicQPU,\n",
    "    cfg,\n",
    "    qubit_labels=[1],\n",
    "    experiment='XYZ',\n",
    "    circuit_depths = [1, 2, 4, 8, 16, 32, 64, 128],\n",
    "    classifier=classifier,\n",
    "    n_shots=1000,\n",
    "    n_circs_per_seq=100,\n",
    "    reload_pulse=False,\n",
    "    reload_freq=False,\n",
    "    reload_env=False,\n",
    "    zero_between_reload=False\n",
    ")\n",
    "rpe.generate_circuits()"
   ]
  },
  {
   "cell_type": "code",
   "execution_count": 2,
   "metadata": {},
   "outputs": [
    {
     "ename": "NameError",
     "evalue": "name 'rpe' is not defined",
     "output_type": "error",
     "traceback": [
      "\u001b[0;31m---------------------------------------------------------------------------\u001b[0m",
      "\u001b[0;31mNameError\u001b[0m                                 Traceback (most recent call last)",
      "Cell \u001b[0;32mIn[2], line 1\u001b[0m\n\u001b[0;32m----> 1\u001b[0m \u001b[43mrpe\u001b[49m\u001b[38;5;241m.\u001b[39mtest([\u001b[38;5;241m0.05\u001b[39m, \u001b[38;5;241m0.03\u001b[39m, \u001b[38;5;241m0.01\u001b[39m], \u001b[38;5;241m30\u001b[39m, \u001b[38;5;241m0.001\u001b[39m)\n",
      "\u001b[0;31mNameError\u001b[0m: name 'rpe' is not defined"
     ]
    }
   ],
   "source": [
    "rpe.test([0.05, 0.03, 0.01], 30, 0.001)"
   ]
  },
  {
   "cell_type": "markdown",
   "metadata": {},
   "source": [
    "# Real experiment"
   ]
  },
  {
   "cell_type": "code",
   "execution_count": 106,
   "metadata": {},
   "outputs": [
    {
     "name": "stdout",
     "output_type": "stream",
     "text": [
      "Reading /home/jpmarceaux/experiment/data/2024-09-25/20240925_123006_RPE_Q1/dataset_1.txt: 100%\n"
     ]
    },
    {
     "name": "stderr",
     "output_type": "stream",
     "text": [
      "/home/jpmarceaux/qcal/qcal/characterization/phase_estimation.py:681: RuntimeWarning:\n",
      "\n",
      "invalid value encountered in arccos\n",
      "\n"
     ]
    },
    {
     "name": "stdout",
     "output_type": "stream",
     "text": [
      "\n",
      "Qubit: 1\n",
      "Last good depth: L = 32\n",
      "X error = -1.59 (0.049) rad., -91.1 (2.8) deg.\n",
      "Y error = -1.59 (0.049) rad., -91.1 (2.8) deg.\n"
     ]
    },
    {
     "ename": "ValueError",
     "evalue": "cannot convert float NaN to integer",
     "output_type": "error",
     "traceback": [
      "\u001b[0;31m---------------------------------------------------------------------------\u001b[0m",
      "\u001b[0;31mValueError\u001b[0m                                Traceback (most recent call last)",
      "Cell \u001b[0;32mIn[106], line 18\u001b[0m\n\u001b[1;32m      2\u001b[0m cfg\u001b[38;5;241m.\u001b[39mload()\n\u001b[1;32m      4\u001b[0m rpe \u001b[38;5;241m=\u001b[39m RPE(\n\u001b[1;32m      5\u001b[0m     QubicQPU,\n\u001b[1;32m      6\u001b[0m     cfg,\n\u001b[0;32m   (...)\u001b[0m\n\u001b[1;32m     16\u001b[0m     zero_between_reload\u001b[38;5;241m=\u001b[39m\u001b[38;5;28;01mFalse\u001b[39;00m\n\u001b[1;32m     17\u001b[0m )\n\u001b[0;32m---> 18\u001b[0m \u001b[43mrpe\u001b[49m\u001b[38;5;241;43m.\u001b[39;49m\u001b[43mrun\u001b[49m\u001b[43m(\u001b[49m\u001b[43m)\u001b[49m\n",
      "File \u001b[0;32m~/qcal/qcal/characterization/phase_estimation.py:1232\u001b[0m, in \u001b[0;36mRPE.<locals>.RPE.run\u001b[0;34m(self)\u001b[0m\n\u001b[1;32m   1230\u001b[0m \u001b[38;5;28mself\u001b[39m\u001b[38;5;241m.\u001b[39msave()\n\u001b[1;32m   1231\u001b[0m \u001b[38;5;28mself\u001b[39m\u001b[38;5;241m.\u001b[39mgenerate_pygsti_dataset()\n\u001b[0;32m-> 1232\u001b[0m \u001b[38;5;28;43mself\u001b[39;49m\u001b[38;5;241;43m.\u001b[39;49m\u001b[43manalyze\u001b[49m\u001b[43m(\u001b[49m\u001b[43m)\u001b[49m\n\u001b[1;32m   1233\u001b[0m \u001b[38;5;28mself\u001b[39m\u001b[38;5;241m.\u001b[39mplot()\n\u001b[1;32m   1234\u001b[0m \u001b[38;5;28mself\u001b[39m\u001b[38;5;241m.\u001b[39mfinal()\n",
      "File \u001b[0;32m~/qcal/qcal/characterization/phase_estimation.py:1137\u001b[0m, in \u001b[0;36mRPE.<locals>.RPE.analyze\u001b[0;34m(self)\u001b[0m\n\u001b[1;32m   1135\u001b[0m error \u001b[38;5;241m=\u001b[39m errors[\u001b[38;5;28mself\u001b[39m\u001b[38;5;241m.\u001b[39m_last_good_idx[ql]]\n\u001b[1;32m   1136\u001b[0m unc \u001b[38;5;241m=\u001b[39m np\u001b[38;5;241m.\u001b[39mpi \u001b[38;5;241m/\u001b[39m (\u001b[38;5;241m2\u001b[39m \u001b[38;5;241m*\u001b[39m \u001b[38;5;241m2\u001b[39m\u001b[38;5;241m*\u001b[39m\u001b[38;5;241m*\u001b[39m\u001b[38;5;28mself\u001b[39m\u001b[38;5;241m.\u001b[39m_last_good_idx[ql])\n\u001b[0;32m-> 1137\u001b[0m error, unc \u001b[38;5;241m=\u001b[39m \u001b[43mround_to_order_error\u001b[49m\u001b[43m(\u001b[49m\u001b[43merror\u001b[49m\u001b[43m,\u001b[49m\u001b[43m \u001b[49m\u001b[43munc\u001b[49m\u001b[43m)\u001b[49m\n\u001b[1;32m   1138\u001b[0m error_deg, unc_deg \u001b[38;5;241m=\u001b[39m round_to_order_error(\n\u001b[1;32m   1139\u001b[0m     error \u001b[38;5;241m*\u001b[39m \u001b[38;5;241m180\u001b[39m \u001b[38;5;241m/\u001b[39m np\u001b[38;5;241m.\u001b[39mpi, unc \u001b[38;5;241m*\u001b[39m \u001b[38;5;241m180\u001b[39m \u001b[38;5;241m/\u001b[39m np\u001b[38;5;241m.\u001b[39mpi\n\u001b[1;32m   1140\u001b[0m )\n\u001b[1;32m   1141\u001b[0m \u001b[38;5;28mprint\u001b[39m(\n\u001b[1;32m   1142\u001b[0m     \u001b[38;5;124mf\u001b[39m\u001b[38;5;124m'\u001b[39m\u001b[38;5;132;01m{\u001b[39;00mangle\u001b[38;5;132;01m}\u001b[39;00m\u001b[38;5;124m error = \u001b[39m\u001b[38;5;132;01m{\u001b[39;00merror\u001b[38;5;132;01m}\u001b[39;00m\u001b[38;5;124m (\u001b[39m\u001b[38;5;132;01m{\u001b[39;00munc\u001b[38;5;132;01m}\u001b[39;00m\u001b[38;5;124m) rad., \u001b[39m\u001b[38;5;124m'\u001b[39m\n\u001b[1;32m   1143\u001b[0m     \u001b[38;5;124mf\u001b[39m\u001b[38;5;124m'\u001b[39m\u001b[38;5;132;01m{\u001b[39;00merror_deg\u001b[38;5;132;01m}\u001b[39;00m\u001b[38;5;124m (\u001b[39m\u001b[38;5;132;01m{\u001b[39;00munc_deg\u001b[38;5;132;01m}\u001b[39;00m\u001b[38;5;124m) deg.\u001b[39m\u001b[38;5;124m'\u001b[39m\n\u001b[1;32m   1144\u001b[0m )\n",
      "File \u001b[0;32m~/qcal/qcal/math/utils.py:62\u001b[0m, in \u001b[0;36mround_to_order_error\u001b[0;34m(val, err, error_precision)\u001b[0m\n\u001b[1;32m     60\u001b[0m     order_val \u001b[38;5;241m=\u001b[39m np\u001b[38;5;241m.\u001b[39mlog10(\u001b[38;5;28mabs\u001b[39m(val))  \u001b[38;5;66;03m# exponent of order\u001b[39;00m\n\u001b[1;32m     61\u001b[0m     order_err \u001b[38;5;241m=\u001b[39m np\u001b[38;5;241m.\u001b[39mlog10(err)\n\u001b[0;32m---> 62\u001b[0m     val_precision \u001b[38;5;241m=\u001b[39m \u001b[38;5;28;43mint\u001b[39;49m\u001b[43m(\u001b[49m\u001b[43mnp\u001b[49m\u001b[38;5;241;43m.\u001b[39;49m\u001b[43maround\u001b[49m\u001b[43m(\u001b[49m\u001b[43morder_val\u001b[49m\u001b[43m \u001b[49m\u001b[38;5;241;43m-\u001b[39;49m\u001b[43m \u001b[49m\u001b[43morder_err\u001b[49m\u001b[43m)\u001b[49m\u001b[43m)\u001b[49m\n\u001b[1;32m     64\u001b[0m val_rounded \u001b[38;5;241m=\u001b[39m \u001b[38;5;28mfloat\u001b[39m(\n\u001b[1;32m     65\u001b[0m     np\u001b[38;5;241m.\u001b[39mformat_float_scientific(val, precision\u001b[38;5;241m=\u001b[39mval_precision)\n\u001b[1;32m     66\u001b[0m )\n\u001b[1;32m     67\u001b[0m err_rounded \u001b[38;5;241m=\u001b[39m \u001b[38;5;28mfloat\u001b[39m(\n\u001b[1;32m     68\u001b[0m     np\u001b[38;5;241m.\u001b[39mformat_float_scientific(err, precision\u001b[38;5;241m=\u001b[39merror_precision)\n\u001b[1;32m     69\u001b[0m )\n",
      "\u001b[0;31mValueError\u001b[0m: cannot convert float NaN to integer"
     ]
    }
   ],
   "source": [
    "# %debug\n",
    "cfg.load()\n",
    "\n",
    "rpe = RPE(\n",
    "    QubicQPU,\n",
    "    cfg,\n",
    "    qubit_labels=[1],\n",
    "    experiment='XYZ',\n",
    "    circuit_depths = [1, 2, 4, 8, 16, 32],\n",
    "    classifier=classifier,\n",
    "    n_shots=1000,\n",
    "    n_circs_per_seq=100,\n",
    "    reload_pulse=False,\n",
    "    reload_freq=False,\n",
    "    reload_env=False,\n",
    "    zero_between_reload=False\n",
    ")\n",
    "rpe.run()"
   ]
  },
  {
   "cell_type": "code",
   "execution_count": null,
   "metadata": {},
   "outputs": [],
   "source": []
  }
 ],
 "metadata": {
  "kernelspec": {
   "display_name": "qcal",
   "language": "python",
   "name": "python3"
  },
  "language_info": {
   "codemirror_mode": {
    "name": "ipython",
    "version": 3
   },
   "file_extension": ".py",
   "mimetype": "text/x-python",
   "name": "python",
   "nbconvert_exporter": "python",
   "pygments_lexer": "ipython3",
   "version": "3.11.0"
  }
 },
 "nbformat": 4,
 "nbformat_minor": 2
}
