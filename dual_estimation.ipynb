{
 "cells": [
  {
   "cell_type": "code",
   "execution_count": 56,
   "metadata": {},
   "outputs": [
    {
     "name": "stdout",
     "output_type": "stream",
     "text": [
      "The autoreload extension is already loaded. To reload it, use:\n",
      "  %reload_ext autoreload\n"
     ]
    }
   ],
   "source": [
    "import logging\n",
    "import matplotlib.pyplot as plt\n",
    "import numpy as np\n",
    "import pandas as pd\n",
    "import pickle\n",
    "import scipy\n",
    "import yaml\n",
    "import time\n",
    "from tqdm import tqdm\n",
    "\n",
    "from erpe.analysis import *\n",
    "from erpe.experiment_design import *\n",
    "from erpe.models import *\n",
    "from erpe.qcal_util import *\n",
    "from erpe.lqr import *\n",
    "\n",
    "import plotly.io as pio\n",
    "pio.renderers.default = 'jupyterlab'\n",
    "\n",
    "pd.set_option('display.max_columns', None)\n",
    "\n",
    "logging.basicConfig(level=logging.INFO)\n",
    "\n",
    "%load_ext autoreload\n",
    "%autoreload 2"
   ]
  },
  {
   "cell_type": "code",
   "execution_count": 2,
   "metadata": {},
   "outputs": [],
   "source": [
    "import qcal as qc\n",
    "\n",
    "from qcal.units import *\n",
    "from qcal.utils import load_from_pickle\n",
    "from qcal.backend.qubic.qpu import QubicQPU\n",
    "from qcal.backend.qubic.utils import qubic_sequence\n",
    "\n",
    "from qcal.benchmarking.readout import ReadoutFidelity\n",
    "from qcal.calibration.readout import ReadoutCalibration\n",
    "\n",
    "from qcal.interface.pygsti.circuits import load_circuits\n",
    "from qcal.interface.pygsti.transpiler import Transpiler\n",
    "from qcal.interface.pygsti.datasets import generate_pygsti_dataset"
   ]
  },
  {
   "cell_type": "code",
   "execution_count": 3,
   "metadata": {},
   "outputs": [
    {
     "data": {
      "application/vnd.plotly.v1+json": {
       "config": {
        "plotlyServerURL": "https://plot.ly",
        "toImageButtonOptions": {
         "filename": "qpu_layout",
         "format": "png",
         "scale": 10
        }
       },
       "data": [
        {
         "hoverinfo": "none",
         "line": {
          "color": "#888",
          "width": 0.5
         },
         "mode": "lines",
         "type": "scatter",
         "x": [
          -0.9684783388176393,
          -0.3668529399775548,
          null,
          -0.9684783388176393,
          -1,
          null,
          -0.3668529399775548,
          0.4434992255599321,
          null,
          0.4434992255599321,
          0.9979901589052989,
          null,
          0.9979901589052989,
          0.9686965229906638,
          null,
          0.9686965229906638,
          0.3685284470410315,
          null,
          0.3685284470410315,
          -0.4433830757017318,
          null,
          -0.4433830757017318,
          -1,
          null
         ],
         "y": [
          0.44640359560563225,
          0.9940178586038636,
          null,
          0.44640359560563225,
          -0.36064216226952617,
          null,
          0.9940178586038636,
          0.955066655979849,
          null,
          0.955066655979849,
          0.36536301100032714,
          null,
          0.36536301100032714,
          -0.44941311823775193,
          null,
          -0.44941311823775193,
          -0.9941694284358474,
          null,
          -0.9941694284358474,
          -0.9566264122465467,
          null,
          -0.9566264122465467,
          -0.36064216226952617,
          null
         ]
        },
        {
         "hoverinfo": "text",
         "marker": {
          "color": [
           2,
           2,
           2,
           2,
           2,
           2,
           2,
           2
          ],
          "colorbar": {
           "thickness": 15,
           "title": {
            "side": "right",
            "text": "Qubit Connectivity"
           },
           "xanchor": "left"
          },
          "colorscale": [
           [
            0,
            "rgb(255,255,217)"
           ],
           [
            0.125,
            "rgb(237,248,177)"
           ],
           [
            0.25,
            "rgb(199,233,180)"
           ],
           [
            0.375,
            "rgb(127,205,187)"
           ],
           [
            0.5,
            "rgb(65,182,196)"
           ],
           [
            0.625,
            "rgb(29,145,192)"
           ],
           [
            0.75,
            "rgb(34,94,168)"
           ],
           [
            0.875,
            "rgb(37,52,148)"
           ],
           [
            1,
            "rgb(8,29,88)"
           ]
          ],
          "line": {
           "width": 2
          },
          "reversescale": true,
          "showscale": true,
          "size": 25
         },
         "mode": "markers",
         "text": [
          "GE:<br>  Freq: 5469692837.04333<br>  T1: 8.5e-05<br>  T2*: 2.8e-05<br>  T2e: 0.00012<br>EF:<br>  Freq: 5209527432.40548<br>  T1: 3.3e-05<br>  T2*: 2e-05<br>  T2e: None<br>Connectivity: 2",
          "GE:<br>  Freq: 5342762343.03424<br>  T1: 0.000116<br>  T2*: 0.00016<br>  T2e: 0.00011<br>EF:<br>  Freq: 5081946523.00038<br>  T1: 7.5e-05<br>  T2*: 4e-05<br>  T2e: None<br>Connectivity: 2",
          "GE:<br>  Freq: 5197320742.99105<br>  T1: 0.00012<br>  T2*: 3.2e-05<br>  T2e: 0.00016<br>EF:<br>  Freq: 4934655846.77336<br>  T1: 4.2e-05<br>  T2*: 3e-06<br>  T2e: None<br>Connectivity: 2",
          "GE:<br>  Freq: 5253050999.75467<br>  T1: 8.1e-05<br>  T2*: 9.6e-05<br>  T2e: 0.00012<br>EF:<br>  Freq: 4984121103.43778<br>  T1: 3.5e-05<br>  T2*: 5e-05<br>  T2e: None<br>Connectivity: 2",
          "GE:<br>  Freq: 5452756891.31679<br>  T1: 9.1e-05<br>  T2*: 4.4e-05<br>  T2e: 0.00016<br>EF:<br>  Freq: 5193509560.26846<br>  T1: 6.8e-05<br>  T2*: 5e-06<br>  T2e: None<br>Connectivity: 2",
          "GE:<br>  Freq: 5575357055.67948<br>  T1: 7.38e-05<br>  T2*: 0.00011<br>  T2e: 0.0001<br>EF:<br>  Freq: 5317728990.01996<br>  T1: 4.32e-05<br>  T2*: 5e-06<br>  T2e: None<br>Connectivity: 2",
          "GE:<br>  Freq: 5873675134.62523<br>  T1: 5e-05<br>  T2*: 3e-05<br>  T2e: 9.8e-05<br>EF:<br>  Freq: 5621874136.85352<br>  T1: 2.61e-05<br>  T2*: 9.4e-06<br>  T2e: None<br>Connectivity: 2",
          "GE:<br>  Freq: 5376540318.98483<br>  T1: 2.54e-05<br>  T2*: 3.5e-05<br>  T2e: 4.4e-05<br>EF:<br>  Freq: 5114430928.12754<br>  T1: 1.4e-05<br>  T2*: 4.3e-06<br>  T2e: None<br>Connectivity: 2"
         ],
         "type": "scatter",
         "x": [
          -0.9684783388176393,
          -0.3668529399775548,
          0.4434992255599321,
          0.9979901589052989,
          0.9686965229906638,
          0.3685284470410315,
          -0.4433830757017318,
          -1
         ],
         "y": [
          0.44640359560563225,
          0.9940178586038636,
          0.955066655979849,
          0.36536301100032714,
          -0.44941311823775193,
          -0.9941694284358474,
          -0.9566264122465467,
          -0.36064216226952617
         ]
        },
        {
         "hoverinfo": "text",
         "marker": {
          "color": "#5D69B1",
          "size": 0.01
         },
         "mode": "text",
         "text": [
          "Q0",
          "Q1",
          "Q2",
          "Q3",
          "Q4",
          "Q5",
          "Q6",
          "Q7"
         ],
         "type": "scatter",
         "x": [
          -0.9684783388176393,
          -0.3668529399775548,
          0.4434992255599321,
          0.9979901589052989,
          0.9686965229906638,
          0.3685284470410315,
          -0.4433830757017318,
          -1
         ],
         "y": [
          0.44640359560563225,
          0.9940178586038636,
          0.955066655979849,
          0.36536301100032714,
          -0.44941311823775193,
          -0.9941694284358474,
          -0.9566264122465467,
          -0.36064216226952617
         ]
        },
        {
         "hoverinfo": "text",
         "marker": {
          "opacity": 0
         },
         "mode": "markers",
         "text": [
          "CZ:<br>  Freq: 5370000000.0<br>",
          "CZ:<br>  Freq: 5144000000.0<br>",
          "CZ:<br>  Freq: 5132500000.0<br>",
          "CZ:<br>  Freq: 5287000000.0<br>",
          "CZ:<br>  Freq: 5410000000.0<br>",
          "CZ:<br>  Freq: 5533000000.0<br>",
          "CZ:<br>  Freq: 5485000000.0<br>",
          "CZ:<br>  Freq: 5422500000.0<br>"
         ],
         "type": "scatter",
         "x": [
          -0.667665639397597,
          -0.9842391694088197,
          0.03832314279118865,
          0.7207446922326155,
          0.9833433409479813,
          0.6686124850158477,
          -0.03742731433035015,
          -0.7216915378508659
         ],
         "y": [
          0.720210727104748,
          0.04288071666805304,
          0.9745422572918563,
          0.660214833490088,
          -0.042025053618712394,
          -0.7217912733367997,
          -0.9753979203411971,
          -0.6586342872580364
         ]
        }
       ],
       "layout": {
        "annotations": [
         {
          "font": {
           "size": 25
          },
          "showarrow": false,
          "text": "QPU",
          "x": 0.005,
          "xref": "paper",
          "y": -0.002,
          "yref": "paper"
         }
        ],
        "hovermode": "closest",
        "margin": {
         "b": 20,
         "l": 5,
         "r": 5,
         "t": 40
        },
        "showlegend": false,
        "template": {
         "data": {
          "scatter": [
           {
            "type": "scatter"
           }
          ]
         }
        },
        "title": {
         "font": {
          "size": 16
         }
        },
        "xaxis": {
         "showgrid": false,
         "showticklabels": false,
         "zeroline": false
        },
        "yaxis": {
         "showgrid": false,
         "showticklabels": false,
         "zeroline": false
        }
       }
      }
     },
     "metadata": {},
     "output_type": "display_data"
    }
   ],
   "source": [
    "import qcal.settings as settings\n",
    "\n",
    "logger = logging.getLogger(__name__)\n",
    "\n",
    "basedir = '/home/jpmarceaux/experiment/'\n",
    "settings.Settings.config_path = basedir + 'config/'\n",
    "settings.Settings.data_path = basedir + 'data/'\n",
    "settings.Settings.save_data = True\n",
    "\n",
    "#cfg = qc.Config()\n",
    "akel_config = qc.Config(basedir + 'config/configs/X6Y3/config.yaml')\n",
    "classifier = load_from_pickle(basedir + 'config/configs/X6Y3/ClassificationManager.pkl')\n",
    "# cfg = qc.Config(basedir + 'config/Campbell06/X6Y3/config_abhi.yaml')\n",
    "akel_config.draw_qpu()"
   ]
  },
  {
   "cell_type": "markdown",
   "metadata": {},
   "source": [
    "# Ramsey dual estimation"
   ]
  },
  {
   "cell_type": "code",
   "execution_count": 5,
   "metadata": {},
   "outputs": [],
   "source": [
    "def theta_1qb_to_config_dict(theta):\n",
    "    return {'freq': theta[0], 'amp': theta[1], 'phase': theta[2]}"
   ]
  },
  {
   "cell_type": "code",
   "execution_count": 13,
   "metadata": {},
   "outputs": [],
   "source": [
    "# get the experiment design\n",
    "depths_ramsey = [2**i for i in range(13)]\n",
    "num_shots = 512\n",
    "\n",
    "def make_ramsey_analysis_on_detuning_grid(detuning_grid, config, qid, depths, n_shots, classifier=classifier):\n",
    "    initial_config = parse_control_params_from_cfg_1qb(config, qid)\n",
    "    theta0 = [initial_config['freq'], initial_config['amp'], initial_config['phase']]\n",
    "    edesign = EDesign_Ramsey(depths, [qid])\n",
    "    analyses = {}\n",
    "    for detuning in detuning_grid:\n",
    "        print(f\"Running Ramsey analysis for detuning = {detuning} on qubit {qid}\")\n",
    "        theta = theta0.copy()\n",
    "        theta[0] += detuning\n",
    "        new_config = make_new_config_from_old(config, qid, theta_1qb_to_config_dict(theta))\n",
    "        print(parse_control_params_from_cfg_1qb(new_config, qid))\n",
    "        dataset = make_dataset(new_config, edesign, n_shots, classifier)\n",
    "        analysis = Analysis_Ramsey(dataset, edesign)\n",
    "        analyses[detuning] = analysis\n",
    "    return analyses\n",
    "\n",
    "def analysis_dict_to_grid_estimates(analyses):\n",
    "    grid_estimates = []\n",
    "    for detuning, analysis in analyses.items():\n",
    "        grid_estimates.append(analysis.estimates['idle'])\n",
    "    return grid_estimates"
   ]
  },
  {
   "cell_type": "code",
   "execution_count": 65,
   "metadata": {},
   "outputs": [
    {
     "name": "stdout",
     "output_type": "stream",
     "text": [
      "Reading /home/jpmarceaux/experiment/data/2024-11-14/20241114_113132/RPE_dataset.txt: 100%\n"
     ]
    }
   ],
   "source": [
    "max_detuning = 1e6 # kappa in paper\n",
    "res = 5\n",
    "detuning_grid = np.linspace(-max_detuning, max_detuning, res)\n",
    "qids = ['Q1', 'Q2', 'Q3']\n",
    "grid_estimates = {}\n",
    "for qid in qids:\n",
    "    analyses = make_ramsey_analysis_on_detuning_grid(detuning_grid, akel_config, qid, depths_ramsey, num_shots)\n",
    "    # pickel the analyses dict\n",
    "    with open(f'dual_estimation/ramsey_detuning_exp_{qid}.pkl', 'wb') as f:\n",
    "        pickle.dump(analyses, f)\n",
    "    grid_estimates[qid] = analysis_dict_to_grid_estimates(analyses)\n",
    "\n",
    "    "
   ]
  },
  {
   "cell_type": "code",
   "execution_count": 66,
   "metadata": {},
   "outputs": [],
   "source": [
    "# pickel the grid estimates\n",
    "with open('dual_estimation/ramsey_detuning_exp_grid_estimates.pkl', 'wb') as f:\n",
    "    pickle.dump(grid_estimates, f)"
   ]
  },
  {
   "cell_type": "code",
   "execution_count": 70,
   "metadata": {},
   "outputs": [
    {
     "data": {
      "text/plain": [
       "{'Q1': [-0.12338287743540421,\n",
       "  -0.06067334478955777,\n",
       "  0.002177404512060832,\n",
       "  0.06444232033237718,\n",
       "  0.12841889986447796],\n",
       " 'Q2': [-0.12442934260781646,\n",
       "  -0.061546073526370204,\n",
       "  0.0022086858774130746,\n",
       "  0.0661576336904659,\n",
       "  0.12901365575288182],\n",
       " 'Q3': [-0.0815909901010019,\n",
       "  -0.04598083340333137,\n",
       "  0.020448398722074046,\n",
       "  0.023036080520235203,\n",
       "  0.15902355904226084]}"
      ]
     },
     "execution_count": 70,
     "metadata": {},
     "output_type": "execute_result"
    }
   ],
   "source": [
    "grid_estimates"
   ]
  },
  {
   "cell_type": "code",
   "execution_count": 69,
   "metadata": {},
   "outputs": [
    {
     "data": {
      "text/plain": [
       "Text(0.5, 0, 'Detuning (Hz)')"
      ]
     },
     "execution_count": 69,
     "metadata": {},
     "output_type": "execute_result"
    },
    {
     "data": {
      "image/png": "[encoded data removed]",
      "text/plain": [
       "<Figure size 640x480 with 1 Axes>"
      ]
     },
     "metadata": {},
     "output_type": "display_data"
    }
   ],
   "source": [
    "# fit a line to the grid estimates\n",
    "fits = {qid : np.polyfit(detuning_grid, ge, 1) for qid, ge in grid_estimates.items()}\n",
    "\n",
    "colors = {\n",
    "    'Q0' : 'blue',\n",
    "    'Q1' : 'green',\n",
    "    'Q2' : 'red',\n",
    "    'Q3' : 'blue'\n",
    "}\n",
    "\n",
    "# plot the fit on the grid estimates\n",
    "plt.figure()\n",
    "for qid, fit in fits.items():\n",
    "    plt.plot(detuning_grid, grid_estimates[qid], label=qid, color=colors[qid])\n",
    "    plt.plot(detuning_grid, np.polyval(fit, detuning_grid), label=f'fit {qid}', color=colors[qid], linestyle='--')\n",
    "plt.legend()\n",
    "plt.ylabel('Phase (rad.)', fontsize=14)\n",
    "plt.xlabel('Detuning (Hz)', fontsize=14)\n",
    "\n"
   ]
  },
  {
   "cell_type": "code",
   "execution_count": 71,
   "metadata": {},
   "outputs": [
    {
     "data": {
      "text/plain": [
       "{'Q1': array([1.25743844e-07, 2.19648050e-03]),\n",
       " 'Q2': array([1.26917941e-07, 2.28091184e-03]),\n",
       " 'Q3': array([1.10049202e-07, 1.49872430e-02])}"
      ]
     },
     "execution_count": 71,
     "metadata": {},
     "output_type": "execute_result"
    }
   ],
   "source": [
    "fits"
   ]
  },
  {
   "cell_type": "code",
   "execution_count": 72,
   "metadata": {},
   "outputs": [
    {
     "data": {
      "text/plain": [
       "0.3183098861837907"
      ]
     },
     "execution_count": 72,
     "metadata": {},
     "output_type": "execute_result"
    }
   ],
   "source": [
    "1/np.pi"
   ]
  },
  {
   "cell_type": "code",
   "execution_count": 73,
   "metadata": {},
   "outputs": [
    {
     "data": {
      "text/plain": [
       "array([1.10049202e-07, 1.49872430e-02])"
      ]
     },
     "execution_count": 73,
     "metadata": {},
     "output_type": "execute_result"
    }
   ],
   "source": [
    "fit"
   ]
  },
  {
   "cell_type": "markdown",
   "metadata": {},
   "source": [
    "# X-gate dual estimation"
   ]
  },
  {
   "cell_type": "markdown",
   "metadata": {},
   "source": [
    "## Amplitude dual estimation"
   ]
  },
  {
   "cell_type": "code",
   "execution_count": 74,
   "metadata": {},
   "outputs": [],
   "source": [
    "# make the experiment design\n",
    "depths_xgate = [2**i for i in range(8)]\n",
    "num_shots = 512\n",
    "\n",
    "def make_xoverrot_analysis_on_amplitude_grid(amp_grid, config, qid, depths, n_shots, classifier=classifier):\n",
    "    initial_config = parse_control_params_from_cfg_1qb(config, qid)\n",
    "    theta0 = [initial_config['freq'], initial_config['amp'], initial_config['phase']]\n",
    "    edesign = EDesign_Xoverrot(depths, [qid])\n",
    "    analyses = {}\n",
    "    for amp_offset in amp_grid:\n",
    "        theta = theta0.copy()\n",
    "        theta[1] += amp_offset\n",
    "        new_config = make_new_config_from_old(config, qid, theta_1qb_to_config_dict(theta))\n",
    "        dataset = make_dataset(new_config, edesign, n_shots, classifier)\n",
    "        analysis = Analysis_Xoverrot(dataset, edesign)\n",
    "        analyses[amp_offset] = analysis\n",
    "    return analyses\n",
    "\n",
    "def overrot_analysis_dict_to_grid_estimates(analyses):\n",
    "    grid_estimates = []\n",
    "    for amp_offset, analysis in analyses.items():\n",
    "        grid_estimates.append(analysis.estimates['X overrot'])\n",
    "    return grid_estimates\n"
   ]
  },
  {
   "cell_type": "code",
   "execution_count": 75,
   "metadata": {},
   "outputs": [
    {
     "name": "stdout",
     "output_type": "stream",
     "text": [
      "Reading /home/jpmarceaux/experiment/data/2024-11-14/20241114_113545/RPE_dataset.txt: 100%\n"
     ]
    }
   ],
   "source": [
    "max_amp_offset = 0.005\n",
    "res = 5\n",
    "amp_grid = np.linspace(-max_amp_offset, max_amp_offset, res)\n",
    "qids = ['Q1', 'Q2', 'Q3']\n",
    "amp_grid_estimates = {}\n",
    "for qid in qids:\n",
    "    analyses = make_xoverrot_analysis_on_amplitude_grid(amp_grid, akel_config, qid, depths_xgate, num_shots)\n",
    "    # pickel the analyses dict\n",
    "    with open(f'dual_estimation/xoverrot_amp_exp_{qid}.pkl', 'wb') as f:\n",
    "        pickle.dump(analyses, f)\n",
    "    amp_grid_estimates[qid] = overrot_analysis_dict_to_grid_estimates(analyses)"
   ]
  },
  {
   "cell_type": "code",
   "execution_count": 76,
   "metadata": {},
   "outputs": [],
   "source": [
    "# pickel the grid estimates\n",
    "with open('dual_estimation/xoverrot_amp_exp_grid_estimates.pkl', 'wb') as f:\n",
    "    pickle.dump(amp_grid_estimates, f)"
   ]
  },
  {
   "cell_type": "code",
   "execution_count": 78,
   "metadata": {},
   "outputs": [
    {
     "data": {
      "text/plain": [
       "<matplotlib.legend.Legend at 0x783f12d58090>"
      ]
     },
     "execution_count": 78,
     "metadata": {},
     "output_type": "execute_result"
    },
    {
     "data": {
      "image/png": "[encoded data removed]",
      "text/plain": [
       "<Figure size 640x480 with 1 Axes>"
      ]
     },
     "metadata": {},
     "output_type": "display_data"
    }
   ],
   "source": [
    "# fit and plot\n",
    "fits = {qid : np.polyfit(amp_grid, ge, 1) for qid, ge in amp_grid_estimates.items()}\n",
    "\n",
    "colors = {\n",
    "    'Q0' : 'blue',\n",
    "    'Q1' : 'green',\n",
    "    'Q2' : 'red', \n",
    "    'Q3' : 'blue'\n",
    "}\n",
    "\n",
    "# plot the fit on the grid estimates\n",
    "plt.figure()\n",
    "for qid, fit in fits.items():\n",
    "    plt.plot(amp_grid, amp_grid_estimates[qid], label=qid, color=colors[qid])\n",
    "    plt.plot(amp_grid, np.polyval(fit, amp_grid), label=f'fit {qid}', color=colors[qid], linestyle='--')\n",
    "plt.legend()"
   ]
  },
  {
   "cell_type": "code",
   "execution_count": 79,
   "metadata": {},
   "outputs": [
    {
     "data": {
      "text/plain": [
       "{'Q1': array([ 4.32621449e+00, -1.56213337e-04]),\n",
       " 'Q2': array([5.46962117, 0.00852671]),\n",
       " 'Q3': array([16.75946727,  0.10651528])}"
      ]
     },
     "execution_count": 79,
     "metadata": {},
     "output_type": "execute_result"
    }
   ],
   "source": [
    "fits"
   ]
  },
  {
   "cell_type": "markdown",
   "metadata": {},
   "source": [
    "## Phase dual estimation"
   ]
  },
  {
   "cell_type": "markdown",
   "metadata": {},
   "source": [
    "# CZ-gate dual estimation"
   ]
  },
  {
   "cell_type": "code",
   "execution_count": 80,
   "metadata": {},
   "outputs": [
    {
     "data": {
      "text/plain": [
       "{'cz amp': 0.26536, 'cz vphase 1': 1.60701, 'cz vphase 2': -1.48246}"
      ]
     },
     "execution_count": 80,
     "metadata": {},
     "output_type": "execute_result"
    }
   ],
   "source": [
    "parse_cz_control_params_from_cfg(akel_config, ['Q1', 'Q2'])"
   ]
  },
  {
   "cell_type": "code",
   "execution_count": 81,
   "metadata": {},
   "outputs": [],
   "source": []
  },
  {
   "cell_type": "code",
   "execution_count": 87,
   "metadata": {},
   "outputs": [],
   "source": [
    "def make_cz_estimates_on_amp_grid(amp_grid, config, qids, depths, n_shots, classifier=classifier):\n",
    "    initial_config = parse_cz_control_params_from_cfg(config, qids)\n",
    "    theta0 = [initial_config['cz amp'], initial_config['cz vphase 1'], initial_config['cz vphase 2']]\n",
    "    edesign = EDesign_CZ(depths, qids)\n",
    "    analyses = {}\n",
    "    for amp_offset in amp_grid:\n",
    "        theta = theta0.copy()\n",
    "        theta[0] += amp_offset\n",
    "        new_config = make_new_cz_config_from_old(config, qids, theta_cz_to_config_dict(theta))\n",
    "        dataset = make_dataset(new_config, edesign, n_shots, classifier)\n",
    "        analysis = Analysis_CZ(dataset, edesign)\n",
    "        analyses[amp_offset] = analysis\n",
    "    return analyses\n",
    "\n",
    "def cz_analysis_dict_to_grid_estimates(analyses):\n",
    "    grid_estimates = []\n",
    "    for amp_offset, analysis in analyses.items():\n",
    "        grid_estimates.append([analysis.estimates['ZZ'], analysis.estimates['IZ'], analysis.estimates['ZI']])\n",
    "    return grid_estimates"
   ]
  },
  {
   "cell_type": "code",
   "execution_count": 88,
   "metadata": {},
   "outputs": [
    {
     "name": "stdout",
     "output_type": "stream",
     "text": [
      "Reading /home/jpmarceaux/experiment/data/2024-11-14/20241114_114038/RPE_dataset.txt: 100%\n"
     ]
    }
   ],
   "source": [
    "depths_cz = [2**i for i in range(6)]\n",
    "qids = ['Q1', 'Q2']\n",
    "cz_amp_max_offset = 0.005\n",
    "res = 5\n",
    "cz_amp_grid = np.linspace(-cz_amp_max_offset, cz_amp_max_offset, res)\n",
    "analyses = make_cz_estimates_on_amp_grid(cz_amp_grid, akel_config, qids, depths_cz, num_shots)\n"
   ]
  },
  {
   "cell_type": "code",
   "execution_count": 100,
   "metadata": {},
   "outputs": [],
   "source": [
    "# pickle the analysis \n",
    "with open('dual_estimation/cz_amp_exp.pkl', 'wb') as f:\n",
    "    pickle.dump(analyses, f)\n",
    "\n"
   ]
  },
  {
   "cell_type": "code",
   "execution_count": 101,
   "metadata": {},
   "outputs": [],
   "source": [
    "cz_grid_estimates = cz_analysis_dict_to_grid_estimates(analyses)\n",
    "# pickle the grid estimates\n",
    "with open('dual_estimation/cz_amp_exp_grid_estimates.pkl', 'wb') as f:\n",
    "    pickle.dump(cz_grid_estimates, f)"
   ]
  },
  {
   "cell_type": "code",
   "execution_count": 102,
   "metadata": {},
   "outputs": [],
   "source": [
    "cz_grid_estimates = np.array(cz_grid_estimates)"
   ]
  },
  {
   "cell_type": "code",
   "execution_count": 103,
   "metadata": {},
   "outputs": [
    {
     "data": {
      "text/plain": [
       "Text(0.5, 0, 'CZ Amplitude (a.u.)')"
      ]
     },
     "execution_count": 103,
     "metadata": {},
     "output_type": "execute_result"
    },
    {
     "data": {
      "image/png": "[encoded data removed]",
      "text/plain": [
       "<Figure size 640x480 with 1 Axes>"
      ]
     },
     "metadata": {},
     "output_type": "display_data"
    }
   ],
   "source": [
    "zz_grid_estimates = cz_grid_estimates[:, 0]\n",
    "zi_grid_estimates = cz_grid_estimates[:, 1]\n",
    "iz_grid_estimates = cz_grid_estimates[:, 2]\n",
    "zz_fit = np.polyfit(cz_amp_grid, zz_grid_estimates, 1)\n",
    "zi_fit = np.polyfit(cz_amp_grid, zi_grid_estimates, 1)\n",
    "iz_fit = np.polyfit(cz_amp_grid, iz_grid_estimates, 1)\n",
    "\n",
    "# plot with fits\n",
    "plt.figure()\n",
    "plt.plot(cz_amp_grid, zz_grid_estimates, label='ZZ', color='blue')\n",
    "plt.plot(cz_amp_grid, np.polyval(zz_fit, cz_amp_grid), label='fit ZZ', color='blue', linestyle='--')\n",
    "plt.plot(cz_amp_grid, zi_grid_estimates, label='ZI', color='green')\n",
    "plt.plot(cz_amp_grid, np.polyval(zi_fit, cz_amp_grid), label='fit ZI', color='green', linestyle='--')\n",
    "plt.plot(cz_amp_grid, iz_grid_estimates, label='IZ', color='red')\n",
    "plt.plot(cz_amp_grid, np.polyval(iz_fit, cz_amp_grid), label='fit IZ', color='red', linestyle='--')\n",
    "plt.legend()\n",
    "plt.ylabel('Phase (rad.)', fontsize=14)\n",
    "plt.xlabel('CZ Amplitude (a.u.)', fontsize=14)\n"
   ]
  },
  {
   "cell_type": "code",
   "execution_count": 99,
   "metadata": {},
   "outputs": [
    {
     "name": "stdout",
     "output_type": "stream",
     "text": [
      "[-9.1976732   0.01886845] [86.5182117   0.17462214] [96.05008443 -1.60558358]\n"
     ]
    }
   ],
   "source": [
    "print(zz_fit, zi_fit, iz_fit)"
   ]
  }
 ],
 "metadata": {
  "kernelspec": {
   "display_name": "qcal",
   "language": "python",
   "name": "python3"
  },
  "language_info": {
   "codemirror_mode": {
    "name": "ipython",
    "version": 3
   },
   "file_extension": ".py",
   "mimetype": "text/x-python",
   "name": "python",
   "nbconvert_exporter": "python",
   "pygments_lexer": "ipython3",
   "version": "3.11.0"
  }
 },
 "nbformat": 4,
 "nbformat_minor": 2
}
