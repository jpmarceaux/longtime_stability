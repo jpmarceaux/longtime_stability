{
 "cells": [
  {
   "cell_type": "code",
   "execution_count": 1,
   "metadata": {},
   "outputs": [],
   "source": [
    "import pickle\n",
    "from erpe.analysis import *\n",
    "from erpe.experiment_design import *\n",
    "from erpe.models import *\n",
    "from erpe.qcal_util import *\n",
    "from erpe.lqr import *"
   ]
  },
  {
   "cell_type": "code",
   "execution_count": 2,
   "metadata": {},
   "outputs": [],
   "source": [
    "import pandas"
   ]
  },
  {
   "cell_type": "code",
   "execution_count": null,
   "metadata": {},
   "outputs": [],
   "source": []
  },
  {
   "cell_type": "code",
   "execution_count": 3,
   "metadata": {},
   "outputs": [],
   "source": [
    "# save an empty dataframe in a csv\n",
    "data = [{   \n",
    "        'qid' : 0, \n",
    "        'timestamp': 0,\n",
    "        'ramsey_estimate' : 0,\n",
    "        'overrot' : 0,\n",
    "        'axis' : 0, \n",
    "        'T1': 0,\n",
    "        'T2': 0,\n",
    "        }]\n",
    "# add the data to the dataframe\n",
    "df = pandas.DataFrame(data)\n",
    "filename = 'drift_characterization_experiments/weekend_nov8/single_qb_data.csv'\n",
    "\n",
    "\n",
    "df.to_csv(filename)\n",
    "\n",
    "data_2qb = [{   \n",
    "        'timestamp': 0,\n",
    "        'qids' : 0, \n",
    "        'ZZ' : 0,\n",
    "        'IZ' : 0,\n",
    "        'ZI' :0\n",
    "        }]\n",
    "filename = 'drift_characterization_experiments/weekend_nov8/two_qb_data.csv'\n",
    "df_2qb = pandas.DataFrame(data_2qb)\n",
    "\n",
    "df_2qb.to_csv(filename)\n",
    "\n"
   ]
  },
  {
   "cell_type": "code",
   "execution_count": 4,
   "metadata": {},
   "outputs": [],
   "source": [
    "# load a pickle file\n",
    "with open('drift_characterization_experiments/nov6_2024/Q1_ramsey_1730933516.008186.pkl', 'rb') as f:\n",
    "    pickle_data = pickle.load(f)"
   ]
  },
  {
   "cell_type": "code",
   "execution_count": 5,
   "metadata": {},
   "outputs": [],
   "source": [
    "import os\n",
    "\n",
    "def list_files_in_directory(directory):\n",
    "  \"\"\"Lists all files in the specified directory.\n",
    "\n",
    "  Args:\n",
    "    directory: The path to the directory.\n",
    "\n",
    "  Returns:\n",
    "    A list of filenames in the directory.\n",
    "  \"\"\"\n",
    "  try:\n",
    "    return os.listdir(directory)\n",
    "  except FileNotFoundError:\n",
    "    print(f\"Directory not found: {directory}\")\n",
    "    return []"
   ]
  },
  {
   "cell_type": "code",
   "execution_count": 6,
   "metadata": {},
   "outputs": [],
   "source": [
    "filenames = list_files_in_directory('drift_characterization_experiments/nov6_2024/')\n",
    "\n",
    "# separate each filename by '_'\n",
    "file_parts = [filename.split('_') for filename in filenames]"
   ]
  },
  {
   "cell_type": "code",
   "execution_count": 7,
   "metadata": {},
   "outputs": [],
   "source": [
    "oneqb_fileparts = [filepart for filepart in file_parts if len(filepart) == 3]\n",
    "twqb_fileparts = [filepart for filepart in file_parts if len(filepart) == 4]"
   ]
  },
  {
   "cell_type": "code",
   "execution_count": 8,
   "metadata": {},
   "outputs": [],
   "source": [
    "q0_fileparts = [filepart for filepart in oneqb_fileparts if filepart[0] == 'Q0']\n",
    "q1_fileparts = [filepart for filepart in oneqb_fileparts if filepart[0] == 'Q1']\n",
    "q2_fileparts = [filepart for filepart in oneqb_fileparts if filepart[0] == 'Q2']\n",
    "q0q1_fileparts = [filepart for filepart in twqb_fileparts if filepart[0] == 'Q0']\n",
    "q1q2_fileparts = [filepart for filepart in twqb_fileparts if filepart[0] == 'Q1']\n"
   ]
  },
  {
   "cell_type": "code",
   "execution_count": 9,
   "metadata": {},
   "outputs": [],
   "source": [
    "q0_ramsey_fileparts = [filepart for filepart in q0_fileparts if filepart[1] == 'ramsey']\n",
    "q0_xgate_fileparts = [filepart for filepart in q0_fileparts if filepart[1] == 'xgate']\n",
    "q1_ramsey_fileparts = [filepart for filepart in q1_fileparts if filepart[1] == 'ramsey']\n",
    "q1_xgate_fileparts = [filepart for filepart in q1_fileparts if filepart[1] == 'xgate']\n",
    "q2_ramsey_fileparts = [filepart for filepart in q2_fileparts if filepart[1] == 'ramsey']\n",
    "q2_xgate_fileparts = [filepart for filepart in q2_fileparts if filepart[1] == 'xgate']"
   ]
  },
  {
   "cell_type": "code",
   "execution_count": 10,
   "metadata": {},
   "outputs": [
    {
     "data": {
      "text/plain": [
       "[['Q1', 'ramsey', '1730943575.1802137.txt'],\n",
       " ['Q1', 'ramsey', '1730933866.1390214.txt'],\n",
       " ['Q1', 'ramsey', '1730940971.9304674.txt'],\n",
       " ['Q1', 'ramsey', '1730940117.695792.pkl'],\n",
       " ['Q1', 'ramsey', '1730943575.1802137.pkl'],\n",
       " ['Q1', 'ramsey', '1730937331.3019123.pkl'],\n",
       " ['Q1', 'ramsey', '1730942709.0686274.txt'],\n",
       " ['Q1', 'ramsey', '1730935618.8817308.txt'],\n",
       " ['Q1', 'ramsey', '1730937331.3019123.txt'],\n",
       " ['Q1', 'ramsey', '1730942709.0686274.pkl'],\n",
       " ['Q1', 'ramsey', '1730936493.7060065.pkl'],\n",
       " ['Q1', 'ramsey', '1730945275.7906563.txt'],\n",
       " ['Q1', 'ramsey', '1730934734.3795028.txt'],\n",
       " ['Q1', 'ramsey', '1730944439.9778666.pkl'],\n",
       " ['Q1', 'ramsey', '1730935618.8817308.pkl'],\n",
       " ['Q1', 'ramsey', '1730933516.008186.txt'],\n",
       " ['Q1', 'ramsey', '1730945275.7906563.pkl'],\n",
       " ['Q1', 'ramsey', '1730938229.8286526.pkl'],\n",
       " ['Q1', 'ramsey', '1730938229.8286526.txt'],\n",
       " ['Q1', 'ramsey', '1730939249.7845938.txt'],\n",
       " ['Q1', 'ramsey', '1730933516.008186.pkl'],\n",
       " ['Q1', 'ramsey', '1730941840.0100684.txt'],\n",
       " ['Q1', 'ramsey', '1730941840.0100684.pkl'],\n",
       " ['Q1', 'ramsey', '1730940971.9304674.pkl'],\n",
       " ['Q1', 'ramsey', '1730940117.695792.txt'],\n",
       " ['Q1', 'ramsey', '1730944439.9778666.txt'],\n",
       " ['Q1', 'ramsey', '1730934734.3795028.pkl'],\n",
       " ['Q1', 'ramsey', '1730933866.1390214.pkl'],\n",
       " ['Q1', 'ramsey', '1730936493.7060065.txt'],\n",
       " ['Q1', 'ramsey', '1730939249.7845938.pkl']]"
      ]
     },
     "execution_count": 10,
     "metadata": {},
     "output_type": "execute_result"
    }
   ],
   "source": [
    "q1_ramsey_fileparts"
   ]
  },
  {
   "cell_type": "code",
   "execution_count": 11,
   "metadata": {},
   "outputs": [],
   "source": [
    "# remove the txt files from the list\n",
    "q0_ramsey_fileparts = [filepart for filepart in q0_ramsey_fileparts if filepart[2].split('.')[2] == 'pkl']\n",
    "q0_xgate_fileparts = [filepart for filepart in q0_xgate_fileparts if filepart[2].split('.')[2] == 'pkl']\n",
    "q1_ramsey_fileparts = [filepart for filepart in q1_ramsey_fileparts if filepart[2].split('.')[2] == 'pkl']\n",
    "q1_xgate_fileparts = [filepart for filepart in q1_xgate_fileparts if filepart[2].split('.')[2] == 'pkl']\n",
    "q2_ramsey_fileparts = [filepart for filepart in q2_ramsey_fileparts if filepart[2].split('.')[2] == 'pkl']\n",
    "q2_xgate_fileparts = [filepart for filepart in q2_xgate_fileparts if filepart[2].split('.')[2] == 'pkl']\n"
   ]
  },
  {
   "cell_type": "code",
   "execution_count": 12,
   "metadata": {},
   "outputs": [
    {
     "data": {
      "text/plain": [
       "[['Q1', 'ramsey', '1730940117.695792.pkl'],\n",
       " ['Q1', 'ramsey', '1730943575.1802137.pkl'],\n",
       " ['Q1', 'ramsey', '1730937331.3019123.pkl'],\n",
       " ['Q1', 'ramsey', '1730942709.0686274.pkl'],\n",
       " ['Q1', 'ramsey', '1730936493.7060065.pkl'],\n",
       " ['Q1', 'ramsey', '1730944439.9778666.pkl'],\n",
       " ['Q1', 'ramsey', '1730935618.8817308.pkl'],\n",
       " ['Q1', 'ramsey', '1730945275.7906563.pkl'],\n",
       " ['Q1', 'ramsey', '1730938229.8286526.pkl'],\n",
       " ['Q1', 'ramsey', '1730933516.008186.pkl'],\n",
       " ['Q1', 'ramsey', '1730941840.0100684.pkl'],\n",
       " ['Q1', 'ramsey', '1730940971.9304674.pkl'],\n",
       " ['Q1', 'ramsey', '1730934734.3795028.pkl'],\n",
       " ['Q1', 'ramsey', '1730933866.1390214.pkl'],\n",
       " ['Q1', 'ramsey', '1730939249.7845938.pkl']]"
      ]
     },
     "execution_count": 12,
     "metadata": {},
     "output_type": "execute_result"
    }
   ],
   "source": [
    "q1_ramsey_fileparts"
   ]
  },
  {
   "cell_type": "code",
   "execution_count": 13,
   "metadata": {},
   "outputs": [
    {
     "data": {
      "text/plain": [
       "'txt'"
      ]
     },
     "execution_count": 13,
     "metadata": {},
     "output_type": "execute_result"
    }
   ],
   "source": [
    "file_parts[1][2].split('.')[2]"
   ]
  },
  {
   "cell_type": "code",
   "execution_count": 14,
   "metadata": {},
   "outputs": [],
   "source": [
    "q0_ramsey_analyses = []\n",
    "for filepart in q0_ramsey_fileparts:\n",
    "    timestamp = filepart[2][:-4]\n",
    "    filename = '_'.join(filepart)\n",
    "    with open('drift_characterization_experiments/nov6_2024/' + filename, 'rb') as f:\n",
    "        q0_ramsey_analyses.append((timestamp, pickle.load(f)))\n",
    "\n",
    "q1_ramsey_analyses = []\n",
    "for filepart in q1_ramsey_fileparts:\n",
    "    timestamp = filepart[2][:-4]\n",
    "    filename = '_'.join(filepart)\n",
    "    with open('drift_characterization_experiments/nov6_2024/' + filename, 'rb') as f:\n",
    "        q1_ramsey_analyses.append((timestamp, pickle.load(f)))"
   ]
  },
  {
   "cell_type": "code",
   "execution_count": 15,
   "metadata": {},
   "outputs": [
    {
     "data": {
      "text/plain": [
       "[('1730936465.7285192', <erpe.analysis.Analysis_Ramsey at 0x78045a56f690>),\n",
       " ('1730945255.095001', <erpe.analysis.Analysis_Ramsey at 0x78045a045b10>),\n",
       " ('1730942688.3045979', <erpe.analysis.Analysis_Ramsey at 0x78045b3b0490>),\n",
       " ('1730933495.2756128', <erpe.analysis.Analysis_Ramsey at 0x780459fcb550>),\n",
       " ('1730933845.4435594', <erpe.analysis.Analysis_Ramsey at 0x7804d8107a50>),\n",
       " ('1730937310.591419', <erpe.analysis.Analysis_Ramsey at 0x78045a0a10d0>),\n",
       " ('1730940097.0061007', <erpe.analysis.Analysis_Ramsey at 0x78045a18edd0>),\n",
       " ('1730934713.677573', <erpe.analysis.Analysis_Ramsey at 0x78045a8b22d0>),\n",
       " ('1730941819.2536454', <erpe.analysis.Analysis_Ramsey at 0x78045a2267d0>),\n",
       " ('1730943548.4000564', <erpe.analysis.Analysis_Ramsey at 0x78045a069250>),\n",
       " ('1730944415.9546893', <erpe.analysis.Analysis_Ramsey at 0x78045a1e0850>),\n",
       " ('1730938180.0391963', <erpe.analysis.Analysis_Ramsey at 0x7804d80efa90>),\n",
       " ('1730935598.1906843', <erpe.analysis.Analysis_Ramsey at 0x78045a06bd10>),\n",
       " ('1730939229.0921178', <erpe.analysis.Analysis_Ramsey at 0x78045a068c50>),\n",
       " ('1730940951.2351549', <erpe.analysis.Analysis_Ramsey at 0x78045a0e9310>)]"
      ]
     },
     "execution_count": 15,
     "metadata": {},
     "output_type": "execute_result"
    }
   ],
   "source": [
    "q0_ramsey_analyses"
   ]
  },
  {
   "cell_type": "code",
   "execution_count": 16,
   "metadata": {},
   "outputs": [
    {
     "data": {
      "text/plain": [
       "{'idle': -0.00012782361021690392}"
      ]
     },
     "execution_count": 16,
     "metadata": {},
     "output_type": "execute_result"
    }
   ],
   "source": [
    "q0_ramsey_analyses[0][1].estimates"
   ]
  },
  {
   "cell_type": "code",
   "execution_count": 17,
   "metadata": {},
   "outputs": [],
   "source": [
    "q0_ramsey_estimates = np.array([(timestamp, float(analysis.estimates['idle'])) for timestamp, analysis in q0_ramsey_analyses], dtype=float).T"
   ]
  },
  {
   "cell_type": "code",
   "execution_count": 18,
   "metadata": {},
   "outputs": [
    {
     "data": {
      "text/plain": [
       "array([[ 1.73093647e+09,  1.73094526e+09,  1.73094269e+09,\n",
       "         1.73093350e+09,  1.73093385e+09,  1.73093731e+09,\n",
       "         1.73094010e+09,  1.73093471e+09,  1.73094182e+09,\n",
       "         1.73094355e+09,  1.73094442e+09,  1.73093818e+09,\n",
       "         1.73093560e+09,  1.73093923e+09,  1.73094095e+09],\n",
       "       [-1.27823610e-04, -4.37849645e-04, -1.32670098e-04,\n",
       "        -1.30961921e-04, -2.15807529e-04, -2.20811449e-04,\n",
       "        -1.54643712e-04, -1.68327974e-04, -2.36823573e-04,\n",
       "        -2.48692133e-04, -3.31716637e-04, -1.64211680e-04,\n",
       "        -2.37364953e-04, -2.60394584e-04, -1.90630457e-04]])"
      ]
     },
     "execution_count": 18,
     "metadata": {},
     "output_type": "execute_result"
    }
   ],
   "source": [
    "q0_ramsey_estimates"
   ]
  },
  {
   "cell_type": "code",
   "execution_count": 25,
   "metadata": {},
   "outputs": [
    {
     "name": "stdout",
     "output_type": "stream",
     "text": [
      "4.850873176658253e-05\n"
     ]
    }
   ],
   "source": [
    "depths_ramsey = [2**i for i in range(12)]\n",
    "num_shots = 1000\n",
    "\n",
    "def estimate_rpe_sigma(num_shots, max_depth):\n",
    "    return np.pi/(max_depth*np.sqrt(num_shots))\n",
    "\n",
    "print(estimate_rpe_sigma(num_shots, depths_ramsey[-1]))"
   ]
  },
  {
   "cell_type": "code",
   "execution_count": 37,
   "metadata": {},
   "outputs": [
    {
     "data": {
      "text/plain": [
       "Text(0, 0.5, 'Estimated RPE phase [rad]')"
      ]
     },
     "execution_count": 37,
     "metadata": {},
     "output_type": "execute_result"
    },
    {
     "data": {
      "image/png": "[encoded data removed]",
      "text/plain": [
       "<Figure size 640x480 with 1 Axes>"
      ]
     },
     "metadata": {},
     "output_type": "display_data"
    }
   ],
   "source": [
    "plt.plot(range(len(q0_ramsey_estimates[1])), q0_ramsey_estimates[1], 'o')\n",
    "# add error bars based on estimated sigma\n",
    "sigma = estimate_rpe_sigma(num_shots, depths_ramsey[-1])\n",
    "plt.errorbar(range(len(q0_ramsey_estimates[1])), q0_ramsey_estimates[1], yerr=sigma, fmt='o')\n",
    "\n",
    "# add axis labels\n",
    "plt.xlabel('Index [10 min. intervals]', fontsize=14)\n",
    "plt.ylabel('Estimated RPE phase [rad]', fontsize=14)\n"
   ]
  },
  {
   "cell_type": "code",
   "execution_count": 38,
   "metadata": {},
   "outputs": [
    {
     "name": "stderr",
     "output_type": "stream",
     "text": [
      "/home/jpmarceaux/anaconda3/envs/qcal/lib/python3.11/site-packages/scipy/signal/_spectral_py.py:589: UserWarning:\n",
      "\n",
      "nperseg = 256 is greater than input length  = 15, using nperseg = 15\n",
      "\n"
     ]
    },
    {
     "data": {
      "image/png": "[encoded data removed]",
      "text/plain": [
       "<Figure size 640x480 with 1 Axes>"
      ]
     },
     "metadata": {},
     "output_type": "display_data"
    }
   ],
   "source": [
    "# calculate PSD\n",
    "import matplotlib.pyplot as plt\n",
    "from scipy import signal\n",
    "\n",
    "dt = 1/600\n",
    "# Calculate the sampling frequency (fs)\n",
    "fs = 1/dt  \n",
    "\n",
    "# Calculate the PSD using Welch's method\n",
    "frequencies, psd = signal.welch(q0_ramsey_estimates[1], fs=fs)\n",
    "\n",
    "\n",
    "plt.figure()\n",
    "plt.plot(frequencies, psd)\n",
    "plt.xlabel('Frequency (Hz)', fontsize=14)\n",
    "plt.ylabel('Power Spectrum Density', fontsize=14)\n",
    "plt.grid(True)\n",
    "plt.show()"
   ]
  },
  {
   "cell_type": "code",
   "execution_count": 22,
   "metadata": {},
   "outputs": [],
   "source": []
  },
  {
   "cell_type": "code",
   "execution_count": 20,
   "metadata": {},
   "outputs": [],
   "source": [
    "q1_ramsey_estimates = np.array([(timestamp, float(analysis.estimates['idle'])) for timestamp, analysis in q1_ramsey_analyses], dtype=float).T"
   ]
  },
  {
   "cell_type": "code",
   "execution_count": 108,
   "metadata": {},
   "outputs": [
    {
     "data": {
      "text/plain": [
       "array([[1.73094012e+09, 1.73094358e+09, 1.73093733e+09, 1.73094271e+09,\n",
       "        1.73093649e+09, 1.73094444e+09, 1.73093562e+09, 1.73094528e+09,\n",
       "        1.73093823e+09, 1.73093352e+09, 1.73094184e+09, 1.73094097e+09,\n",
       "        1.73093473e+09, 1.73093387e+09, 1.73093925e+09],\n",
       "       [2.75770689e-03, 2.57409049e-03, 1.88540637e-03, 1.97197427e-03,\n",
       "        2.18936753e-03, 1.79901940e-03, 2.35955087e-03, 9.87081318e-04,\n",
       "        2.60284845e-03, 2.03812414e-03, 1.89243347e-03, 1.86714427e-03,\n",
       "        1.91460379e-03, 1.86997597e-03, 2.26569714e-03]])"
      ]
     },
     "execution_count": 108,
     "metadata": {},
     "output_type": "execute_result"
    }
   ],
   "source": [
    "q1_ramsey_estimates"
   ]
  },
  {
   "cell_type": "code",
   "execution_count": 109,
   "metadata": {},
   "outputs": [
    {
     "data": {
      "text/plain": [
       "array([0.00275771, 0.00257409, 0.00188541, 0.00197197, 0.00218937,\n",
       "       0.00179902, 0.00235955, 0.00098708, 0.00260285, 0.00203812,\n",
       "       0.00189243, 0.00186714, 0.0019146 , 0.00186998, 0.0022657 ])"
      ]
     },
     "execution_count": 109,
     "metadata": {},
     "output_type": "execute_result"
    }
   ],
   "source": [
    "q1_ramsey_estimates[1]"
   ]
  },
  {
   "cell_type": "code",
   "execution_count": 110,
   "metadata": {},
   "outputs": [
    {
     "data": {
      "text/plain": [
       "[<matplotlib.lines.Line2D at 0x75e0a7841b10>]"
      ]
     },
     "execution_count": 110,
     "metadata": {},
     "output_type": "execute_result"
    },
    {
     "data": {
      "image/png": "[encoded data removed]",
      "text/plain": [
       "<Figure size 640x480 with 1 Axes>"
      ]
     },
     "metadata": {},
     "output_type": "display_data"
    }
   ],
   "source": [
    "plt.plot(q1_ramsey_estimates[1], 'o')"
   ]
  },
  {
   "cell_type": "code",
   "execution_count": null,
   "metadata": {},
   "outputs": [],
   "source": []
  }
 ],
 "metadata": {
  "kernelspec": {
   "display_name": "Python 3",
   "language": "python",
   "name": "python3"
  },
  "language_info": {
   "codemirror_mode": {
    "name": "ipython",
    "version": 3
   },
   "file_extension": ".py",
   "mimetype": "text/x-python",
   "name": "python",
   "nbconvert_exporter": "python",
   "pygments_lexer": "ipython3",
   "version": "3.11.0"
  }
 },
 "nbformat": 4,
 "nbformat_minor": 2
}
